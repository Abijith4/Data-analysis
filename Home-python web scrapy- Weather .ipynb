{
 "cells": [
  {
   "cell_type": "code",
   "execution_count": null,
   "id": "ordered-utility",
   "metadata": {
    "collapsed": true
   },
   "outputs": [],
   "source": [
    "# if we are going to scrap any website how its work \n",
    "spider \n",
    "engine\n",
    "scheduler\n",
    "middleware\n",
    "pipeline \n",
    "\n",
    "1.spider will start sending the request to the engine \n",
    "\n",
    "2. engine transmit the request to the scheduler\n",
    "\n",
    "3.then again Scheduler will be sending back to the engine\n",
    "\n",
    "4.the request will be send to the middleware component is also called as \n",
    "downloader middleware \n",
    "5. then the response will be send back to the engine and engine\n",
    "sending the responce to the spider middleware\n",
    "\n",
    "6. then it will be send back to the engine to the pipeline component"
   ]
  },
  {
   "cell_type": "code",
   "execution_count": null,
   "id": "resistant-canon",
   "metadata": {},
   "outputs": [],
   "source": []
  },
  {
   "cell_type": "markdown",
   "id": "electric-matrix",
   "metadata": {},
   "source": [
    "# Robot.txt"
   ]
  },
  {
   "cell_type": "markdown",
   "id": "aware-cambodia",
   "metadata": {},
   "source": [
    "https://www.amazon.com/robots.txt"
   ]
  },
  {
   "cell_type": "markdown",
   "id": "swedish-joshua",
   "metadata": {},
   "source": [
    "use it in anaconda promt"
   ]
  },
  {
   "cell_type": "markdown",
   "id": "welsh-camping",
   "metadata": {},
   "source": [
    "scrapy bench"
   ]
  },
  {
   "cell_type": "markdown",
   "id": "prepared-daughter",
   "metadata": {},
   "source": [
    "  bench         Run quick benchmark test\n",
    "  fetch         Fetch a URL using the Scrapy downloader\n",
    "  genspider     Generate new spider using pre-defined templates\n",
    "  runspider     Run a self-contained spider (without creating a project)\n",
    "  settings      Get settings values\n",
    "  shell         Interactive scraping console\n",
    "  startproject  Create new project\n",
    "  version       Print Scrapy version\n",
    "  view          Open URL in browser, as seen by Scrapy"
   ]
  },
  {
   "cell_type": "markdown",
   "id": "seven-conservative",
   "metadata": {},
   "source": [
    "scrapy fetch http://google.com (get html datas of google)"
   ]
  },
  {
   "cell_type": "markdown",
   "id": "corporate-saver",
   "metadata": {},
   "source": [
    "spider is used to get contents from the websites"
   ]
  },
  {
   "cell_type": "markdown",
   "id": "baking-lotus",
   "metadata": {},
   "source": [
    "# Create project "
   ]
  },
  {
   "cell_type": "markdown",
   "id": "subtle-worcester",
   "metadata": {},
   "source": [
    "(virtual_workspace) C:\\Users\\91944>mkdir projects\n",
    "\n",
    "(virtual_workspace) C:\\Users\\91944>cd projects\n",
    "\n",
    "(virtual_workspace) C:\\Users\\91944\\projects>scrapy startproject worldometers"
   ]
  },
  {
   "cell_type": "markdown",
   "id": "intermediate-saver",
   "metadata": {},
   "source": [
    "# step-2 "
   ]
  },
  {
   "cell_type": "markdown",
   "id": "fewer-respondent",
   "metadata": {},
   "source": [
    " C:\\Users\\91944\\projects>\n",
    "\n",
    "(virtual_workspace) C:\\Users\\91944\\projects>cd worldometers\n",
    "\n",
    "(virtual_workspace) C:\\Users\\91944\\projects\\worldometers>cd worldometers\n",
    "\n",
    "(virtual_workspace) C:\\Users\\91944\\projects\\worldometers\\worldometers> scrapy genspider countries www.worldometers.info/coronavirus"
   ]
  },
  {
   "cell_type": "markdown",
   "id": "decimal-discount",
   "metadata": {},
   "source": [
    "# step 3"
   ]
  },
  {
   "cell_type": "markdown",
   "id": "durable-queen",
   "metadata": {},
   "source": [
    " C:\\Users\\91944\\projects\\worldometers\\worldometers>scrapy shell"
   ]
  },
  {
   "cell_type": "markdown",
   "id": "canadian-muscle",
   "metadata": {},
   "source": [
    "# step - 4 "
   ]
  },
  {
   "cell_type": "markdown",
   "id": "greek-quarter",
   "metadata": {},
   "source": [
    "fetch(\"https://www.worldometers.info/coronavirus/\")"
   ]
  },
  {
   "cell_type": "markdown",
   "id": "sunrise-gibraltar",
   "metadata": {},
   "source": [
    "# step- 5 "
   ]
  },
  {
   "cell_type": "markdown",
   "id": "interpreted-penalty",
   "metadata": {},
   "source": [
    "r = scrapy.Request(url=\"https://www.worldometers.info/coronavirus/\")\n",
    "\n",
    "fetch(r)"
   ]
  },
  {
   "cell_type": "markdown",
   "id": "aerial-cache",
   "metadata": {},
   "source": [
    "# step- 6 (html for the complete web page)"
   ]
  },
  {
   "cell_type": "markdown",
   "id": "dense-denmark",
   "metadata": {},
   "source": [
    "response.body"
   ]
  },
  {
   "cell_type": "markdown",
   "id": "round-directive",
   "metadata": {},
   "source": [
    "# steo-7 (for viewing the webpage)"
   ]
  },
  {
   "cell_type": "markdown",
   "id": "eleven-thing",
   "metadata": {},
   "source": [
    " view(response)"
   ]
  },
  {
   "cell_type": "markdown",
   "id": "current-blink",
   "metadata": {},
   "source": [
    "in website \n",
    "\n",
    "CTRL + Shift + I = developer tool\n",
    "CTRL + Shift + P= and search java script & select disable java script"
   ]
  },
  {
   "cell_type": "markdown",
   "id": "derived-victorian",
   "metadata": {},
   "source": [
    "# step- 7 "
   ]
  },
  {
   "cell_type": "markdown",
   "id": "south-communist",
   "metadata": {},
   "source": [
    "title = response.xpath(\"//h1\")\n",
    "\n",
    "response.xpath(\"//h1/text()\")\n",
    "\n",
    "title.get()\n",
    "\n",
    " title_css = response.css(\"h1::text\")\n",
    " \n",
    "title_css\n",
    "\n",
    "countries = response.xpath(\"//td/a/text()\").getall()\n",
    "\n",
    "countries"
   ]
  },
  {
   "cell_type": "code",
   "execution_count": 1,
   "id": "objective-earthquake",
   "metadata": {},
   "outputs": [
    {
     "name": "stdout",
     "output_type": "stream",
     "text": [
      "b'<html>\\n<head>\\n<title>A Useful Page</title>\\n</head>\\n<body>\\n<h1>An Interesting Title</h1>\\n<div>\\nLorem ipsum dolor sit amet, consectetur adipisicing elit, sed do eiusmod tempor incididunt ut labore et dolore magna aliqua. Ut enim ad minim veniam, quis nostrud exercitation ullamco laboris nisi ut aliquip ex ea commodo consequat. Duis aute irure dolor in reprehenderit in voluptate velit esse cillum dolore eu fugiat nulla pariatur. Excepteur sint occaecat cupidatat non proident, sunt in culpa qui officia deserunt mollit anim id est laborum.\\n</div>\\n</body>\\n</html>\\n'\n"
     ]
    }
   ],
   "source": [
    "from urllib.request import urlopen\n",
    "html = urlopen(\"http://pythonscraping.com/pages/page1.html\")\n",
    "print(html.read())"
   ]
  },
  {
   "cell_type": "code",
   "execution_count": 2,
   "id": "descending-african",
   "metadata": {},
   "outputs": [],
   "source": [
    "from urllib.request import urlopen"
   ]
  },
  {
   "cell_type": "code",
   "execution_count": 3,
   "id": "fossil-utility",
   "metadata": {},
   "outputs": [
    {
     "name": "stdout",
     "output_type": "stream",
     "text": [
      "<h1>An Interesting Title</h1>\n"
     ]
    }
   ],
   "source": [
    "from urllib.request import urlopen\n",
    "from bs4 import BeautifulSoup\n",
    "html = urlopen(\"http://www.pythonscraping.com/exercises/exercise1.html\")\n",
    "bsObj = BeautifulSoup(html.read());\n",
    "print(bsObj.h1)"
   ]
  },
  {
   "cell_type": "code",
   "execution_count": 4,
   "id": "portable-bennett",
   "metadata": {},
   "outputs": [],
   "source": [
    "html = urlopen(\"http://www.pythonscraping.com/exercises/exercise1.html\")"
   ]
  },
  {
   "cell_type": "code",
   "execution_count": 6,
   "id": "structured-blocking",
   "metadata": {},
   "outputs": [
    {
     "ename": "SyntaxError",
     "evalue": "unexpected EOF while parsing (<ipython-input-6-6ec502260cd4>, line 5)",
     "output_type": "error",
     "traceback": [
      "\u001b[1;36m  File \u001b[1;32m\"<ipython-input-6-6ec502260cd4>\"\u001b[1;36m, line \u001b[1;32m5\u001b[0m\n\u001b[1;33m    else:\u001b[0m\n\u001b[1;37m         ^\u001b[0m\n\u001b[1;31mSyntaxError\u001b[0m\u001b[1;31m:\u001b[0m unexpected EOF while parsing\n"
     ]
    }
   ],
   "source": [
    "try:\n",
    "    html = urlopen(\"http://www.pythonscraping.com/exercises/exercise1.html\")\n",
    "except HTTPError as e:\n",
    "    print(e)\n",
    "else:\n"
   ]
  },
  {
   "cell_type": "code",
   "execution_count": 7,
   "id": "sublime-packaging",
   "metadata": {},
   "outputs": [],
   "source": [
    "from bs4 import BeautifulSoup"
   ]
  },
  {
   "cell_type": "code",
   "execution_count": 8,
   "id": "intelligent-denver",
   "metadata": {},
   "outputs": [],
   "source": [
    "import requests"
   ]
  },
  {
   "cell_type": "code",
   "execution_count": 9,
   "id": "literary-louisiana",
   "metadata": {},
   "outputs": [],
   "source": [
    "with open ('index.html')as html_file:\n",
    "    soup= BeautifulSoup(html_file,'lxml')"
   ]
  },
  {
   "cell_type": "code",
   "execution_count": 10,
   "id": "forty-mistress",
   "metadata": {},
   "outputs": [
    {
     "name": "stdout",
     "output_type": "stream",
     "text": [
      "\n"
     ]
    }
   ],
   "source": [
    "print(soup.prettify())"
   ]
  },
  {
   "cell_type": "code",
   "execution_count": 11,
   "id": "consolidated-burner",
   "metadata": {},
   "outputs": [],
   "source": [
    "import requests"
   ]
  },
  {
   "cell_type": "code",
   "execution_count": 12,
   "id": "hybrid-uruguay",
   "metadata": {},
   "outputs": [],
   "source": [
    "from bs4 import BeautifulSoup"
   ]
  },
  {
   "cell_type": "code",
   "execution_count": 13,
   "id": "little-longer",
   "metadata": {},
   "outputs": [],
   "source": [
    "page=requests.get('https://forecast.weather.gov/MapClick.php?lat=39.76691000000005&lon=-86.15011999999996#.YGCEAq8zZEY')"
   ]
  },
  {
   "cell_type": "code",
   "execution_count": 14,
   "id": "super-palestine",
   "metadata": {},
   "outputs": [
    {
     "name": "stdout",
     "output_type": "stream",
     "text": [
      "<!DOCTYPE html>\n",
      "\n",
      "<html class=\"no-js\">\n",
      "<head>\n",
      "<!-- Meta -->\n",
      "<meta content=\"width=device-width\" name=\"viewport\"/>\n",
      "<link href=\"http://purl.org/dc/elements/1.1/\" rel=\"schema.DC\"/><title>National Weather Service</title><meta content=\"National Weather Service\" name=\"DC.title\"><meta content=\"NOAA National Weather Service National Weather Service\" name=\"DC.description\"/><meta content=\"US Department of Commerce, NOAA, National Weather Service\" name=\"DC.creator\"/><meta content=\"\" name=\"DC.date.created\" scheme=\"ISO8601\"/><meta content=\"EN-US\" name=\"DC.language\" scheme=\"DCTERMS.RFC1766\"/><meta content=\"weather, National Weather Service\" name=\"DC.keywords\"/><meta content=\"NOAA's National Weather Service\" name=\"DC.publisher\"/><meta content=\"National Weather Service\" name=\"DC.contributor\"/><meta content=\"http://www.weather.gov/disclaimer.php\" name=\"DC.rights\"/><meta content=\"General\" name=\"rating\"/><meta content=\"index,follow\" name=\"robots\"/>\n",
      "<!-- Icons -->\n",
      "<link href=\"./images/favicon.ico\" rel=\"shortcut icon\" type=\"image/x-icon\"/>\n",
      "<!-- CSS -->\n",
      "<link href=\"css/bootstrap-3.2.0.min.css\" rel=\"stylesheet\"/>\n",
      "<link href=\"css/bootstrap-theme-3.2.0.min.css\" rel=\"stylesheet\"/>\n",
      "<link href=\"css/font-awesome-4.3.0.min.css\" rel=\"stylesheet\"/>\n",
      "<link href=\"css/ol-4.6.4.css\" rel=\"stylesheet\" type=\"text/css\"/>\n",
      "<link href=\"css/mapclick.css\" rel=\"stylesheet\" type=\"text/css\">\n",
      "<!--[if lte IE 7]><link rel=\"stylesheet\" type=\"text/css\" href=\"css/bootstrap-ie7.css\" /><![endif]-->\n",
      "<!--[if lte IE 9]><link rel=\"stylesheet\" type=\"text/css\" href=\"css/mapclick-ie.css\" /><![endif]-->\n",
      "<link href=\"css/print.css\" rel=\"stylesheet\" type=\"text/css\">\n",
      "<link href=\"css/search.css\" rel=\"stylesheet\" type=\"text/css\">\n",
      "<!-- Javascript -->\n",
      "<script src=\"js/lib/modernizr-2.8.3.js\" type=\"text/javascript\"></script>\n",
      "<script src=\"js/lib/json3-3.3.2.min.js\" type=\"text/javascript\"></script>\n",
      "<script src=\"js/lib/jquery-1.11.3.min.js\" type=\"text/javascript\"></script>\n",
      "<script src=\"js/lib/jquery.hoverIntent-1.8.1.min.js\" type=\"text/javascript\"></script>\n",
      "<script src=\"js/lib/bootstrap-3.2.0.min.js\" type=\"text/javascript\"></script>\n",
      "<script src=\"js/lib/ol-4.6.4.js\" type=\"text/javascript\"></script>\n",
      "<!--[if lte IE 8]><script type=\"text/javascript\" src=\"js/respond.min.js\"></script><![endif]-->\n",
      "<script src=\"js/jquery.autocomplete.min.js\" type=\"text/javascript\"></script>\n",
      "<script src=\"js/cfisurvey/cfi.js?v2\" type=\"text/javascript\"></script>\n",
      "<script src=\"js/forecast.esri.js\" type=\"text/javascript\"></script>\n",
      "<script src=\"js/forecast.search.js\" type=\"text/javascript\"></script>\n",
      "<script src=\"js/forecast.openlayers.js\" type=\"text/javascript\"></script>\n",
      "<script src=\"js/browserSniffer.js\" type=\"text/javascript\"></script>\n",
      "<script src=\"js/federated-analytics.js\" type=\"text/javascript\"></script>\n",
      "<script type=\"javascript\">\n",
      "// ForeSee Staging Embed Script v2.01\n",
      "// DO NOT MODIFY BELOW THIS LINE *****************************************\n",
      ";(function (g) {\n",
      "  var d = document, am = d.createElement('script'), h = d.head || d.getElementsByTagName(\"head\")[0], fsr = 'fsReady',\n",
      "  aex = { \n",
      "    \"src\": \"//gateway.foresee.com/sites/weather-gov/production/gateway.min.js\",\n",
      "    \"type\": \"text/javascript\", \n",
      "    \"async\": \"true\", \n",
      "    \"data-vendor\": \"fs\", \n",
      "    \"data-role\": \"gateway\" \n",
      "  };\n",
      "  for (var attr in aex) { am.setAttribute(attr, aex[attr]); } h.appendChild(am); g[fsr] || (g[fsr] = function () { var aT = '__' + fsr + '_stk__'; g[aT] = g[aT] || []; g[aT].push(arguments); });\n",
      "})(window);\n",
      "// DO NOT MODIFY ABOVE THIS LINE *****************************************\n",
      "</script>\n",
      "<script type=\"text/javascript\">\n",
      "            (function (i, s, o, g, r, a, m) {\n",
      "                i['GoogleAnalyticsObject'] = r;\n",
      "                i[r] = i[r] || function () {\n",
      "                    (i[r].q = i[r].q || []).push(arguments)\n",
      "                }, i[r].l = 1 * new Date();\n",
      "                a = s.createElement(o),\n",
      "                        m = s.getElementsByTagName(o)[0];\n",
      "                a.async = 1;\n",
      "                a.src = g;\n",
      "                m.parentNode.insertBefore(a, m)\n",
      "            })(window, document, 'script', '//www.google-analytics.com/analytics.js', 'ga');\n",
      "\n",
      "            ga('create', 'UA-40768555-1', 'weather.gov', {'sampleRate': 6});\n",
      "            ga('set', 'anonymizeIp', true);\n",
      "            ga('require', 'linkid');\n",
      "            ga('send', 'pageview');\n",
      "        </script>\n",
      "</link></link></link></meta></head>\n",
      "<body>\n",
      "<main class=\"container\">\n",
      "<header class=\"row clearfix\" id=\"page-header\">\n",
      "<a class=\"pull-left\" href=\"http://www.noaa.gov\" id=\"header-noaa\"><img alt=\"National Oceanic and Atmospheric Administration\" src=\"/css/images/header_noaa.png\"/></a>\n",
      "<a class=\"pull-left\" href=\"http://www.weather.gov\" id=\"header-nws\"><img alt=\"National Weather Service\" src=\"/css/images/header_nws.png\"/></a>\n",
      "<a class=\"pull-right\" href=\"http://www.commerce.gov\" id=\"header-doc\"><img alt=\"United States Department of Commerce\" src=\"/css/images/header_doc.png\"/></a>\n",
      "</header>\n",
      "<nav class=\"navbar navbar-default row\" role=\"navigation\">\n",
      "<div class=\"container-fluid\">\n",
      "<div class=\"navbar-header\">\n",
      "<button class=\"navbar-toggle collapsed\" data-target=\"#top-nav\" data-toggle=\"collapse\" type=\"button\">\n",
      "<span class=\"sr-only\">Toggle navigation</span>\n",
      "<span class=\"icon-bar\"></span>\n",
      "<span class=\"icon-bar\"></span>\n",
      "<span class=\"icon-bar\"></span>\n",
      "</button>\n",
      "</div>\n",
      "<div class=\"collapse navbar-collapse\" id=\"top-nav\">\n",
      "<ul class=\"nav navbar-nav\">\n",
      "<li><a href=\"http://www.weather.gov\">HOME</a></li>\n",
      "<li class=\"dropdown\"><a class=\"dropdown-toggle\" data-toggle=\"dropdown\" href=\"http://www.weather.gov/forecastmaps\">FORECAST <span class=\"caret\"></span></a><ul class=\"dropdown-menu\" role=\"menu\"><li><a href=\"http://www.weather.gov\">Local</a></li><li><a href=\"http://digital.weather.gov\">Graphical</a></li><li><a href=\"http://www.aviationweather.gov/\">Aviation</a></li><li><a href=\"http://www.weather.gov/marine\">Marine</a></li><li><a href=\"http://water.weather.gov/ahps/\">Rivers and Lakes</a></li><li><a href=\"http://www.nhc.noaa.gov/\">Hurricanes</a></li><li><a href=\"http://www.spc.noaa.gov/\">Severe Weather</a></li><li><a href=\"http://www.weather.gov/fire/\">Fire Weather</a></li><li><a href=\"https://www.esrl.noaa.gov/gmd/grad/solcalc/sunrise.html\">Sun/Moon</a></li><li><a href=\"http://www.cpc.ncep.noaa.gov/\">Long Range Forecasts</a></li><li><a href=\"http://www.cpc.ncep.noaa.gov\">Climate Prediction</a></li><li><a href=\"https://www.swpc.noaa.gov/\">Space Weather</a></li></ul> </li>\n",
      "<li class=\"dropdown\"><a class=\"dropdown-toggle\" data-toggle=\"dropdown\" href=\"https://w2.weather.gov/climate\">PAST WEATHER <span class=\"caret\"></span></a><ul class=\"dropdown-menu\" role=\"menu\"><li><a href=\"https://w2.weather.gov/climate/\">Past Weather</a></li><li><a href=\"https://w2.weather.gov/climate/\">Heating/Cooling Days</a></li><li><a href=\"https://w2.weather.gov/climate/\">Monthly Temperatures</a></li><li><a href=\"https://w2.weather.gov/climate/\">Records</a></li><li><a href=\"http://aa.usno.navy.mil/\">Astronomical Data</a></li></ul> </li>\n",
      "<li class=\"dropdown\"><a class=\"dropdown-toggle\" data-toggle=\"dropdown\" href=\"http://www.weather.gov/safety\">SAFETY <span class=\"caret\"></span></a><ul class=\"dropdown-menu\" role=\"menu\"><li><a href=\"https://www.weather.gov/safety/tsunami\">Tsunamis</a></li><li><a href=\"https://www.weather.gov/safety/flood\">Floods</a></li><li><a href=\"https://www.weather.gov/safety/beachhazards\">Beach Hazards</a></li><li><a href=\"https://www.weather.gov/safety/wildfire\">Wildfire</a></li><li><a href=\"https://www.weather.gov/safety/cold\">Cold</a></li><li><a href=\"https://www.weather.gov/safety/tornado\">Tornadoes</a></li><li><a href=\"https://www.weather.gov/safety/airquality\">Air Quality</a></li><li><a href=\"https://www.weather.gov/safety/fog\">Fog</a></li><li><a href=\"https://www.weather.gov/safety/heat\">Heat</a></li><li><a href=\"https://www.weather.gov/safety/hurricane\">Hurricanes</a></li><li><a href=\"https://www.weather.gov/safety/lightning\">Lightning</a></li><li><a href=\"https://www.weather.gov/safety/safeboating\">Safe Boating</a></li><li><a href=\"https://www.weather.gov/safety/ripcurrent\">Rip Currents</a></li><li><a href=\"https://www.weather.gov/safety/thunderstorm\">Thunderstorms</a></li><li><a href=\"https://www.weather.gov/safety/space\">Space Weather</a></li><li><a href=\"https://www.weather.gov/safety/heat-uv\">Sun (Ultraviolet Radiation)</a></li><li><a href=\"http://www.weather.gov/safetycampaign\">Safety Campaigns</a></li><li><a href=\"https://www.weather.gov/safety/wind\">Wind</a></li><li><a href=\"https://www.weather.gov/safety/drought\">Drought</a></li><li><a href=\"https://www.weather.gov/safety/winter\">Winter Weather</a></li></ul> </li>\n",
      "<li class=\"dropdown\"><a class=\"dropdown-toggle\" data-toggle=\"dropdown\" href=\"http://www.weather.gov/informationcenter\">INFORMATION <span class=\"caret\"></span></a><ul class=\"dropdown-menu\" role=\"menu\"><li><a href=\"http://www.weather.gov/Owlie's\">Owlie's Kids Page</a></li><li><a href=\"http://www.weather.gov/wrn/wea\">Wireless Emergency Alerts</a></li><li><a href=\"https://www.weather.gov/owlie/publication_brochures\">Brochures</a></li><li><a href=\"http://www.weather.gov/wrn/\">Weather-Ready Nation</a></li><li><a href=\"https://www.weather.gov/coop/\">Cooperative Observers</a></li><li><a href=\"http://www.weather.gov/briefing/\">Daily Briefing</a></li><li><a href=\"http://www.nws.noaa.gov/om/hazstats.shtml\">Damage/Fatality/Injury Statistics</a></li><li><a href=\"http://mag.ncep.noaa.gov/\">Forecast Models</a></li><li><a href=\"https://www.weather.gov/gis\">GIS Data Portal</a></li><li><a href=\"https://www.weather.gov/nwr/\">NOAA Weather Radio</a></li><li><a href=\"http://weather.gov/publications\">Publications</a></li><li><a href=\"http://www.weather.gov/SKYWARN\">SKYWARN Storm Spotters</a></li><li><a href=\"http://www.weather.gov/StormReady\">StormReady</a></li><li><a href=\"https://www.weather.gov/TsunamiReady/\">TsunamiReady</a></li><li><a href=\"https://www.weather.gov/notification/\">Service Change Notices</a></li></ul> </li>\n",
      "<li class=\"dropdown\"><a class=\"dropdown-toggle\" data-toggle=\"dropdown\" href=\"http://www.weather.gov/education\">EDUCATION <span class=\"caret\"></span></a><ul class=\"dropdown-menu\" role=\"menu\"><li><a href=\"https://www.weather.gov/wrn/force\">Be A Force of Nature</a></li><li><a href=\"http://www.weather.gov/owlie\">NWS Education Home</a></li></ul> </li>\n",
      "<li class=\"dropdown\"><a class=\"dropdown-toggle\" data-toggle=\"dropdown\" href=\"http://www.weather.gov/news/\">NEWS <span class=\"caret\"></span></a><ul class=\"dropdown-menu\" role=\"menu\"><li><a href=\"http://www.weather.gov/news\">NWS News</a></li><li><a href=\"https://www.weather.gov/wrn/calendar\">Events</a></li><li><a href=\"http://www.weather.gov/socialmedia\">Social Media</a></li><li><a href=\"https://www.weather.gov/owlie/publication_brochures\">Pubs/Brochures/Booklets </a></li><li><a href=\"http://www.noaa.gov/NOAA-Communications\">NWS Media Contacts</a></li></ul> </li>\n",
      "<li class=\"dropdown\"><a class=\"dropdown-toggle\" data-toggle=\"dropdown\" href=\"http://www.weather.gov/search\">SEARCH <span class=\"caret\"></span></a><ul class=\"dropdown-menu\" role=\"menu\"> <li><!-- Begin search code -->\n",
      "<div id=\"site-search\">\n",
      "<form action=\"//search.usa.gov/search\" method=\"get\" style=\"margin-bottom: 0; margin-top: 0;\">\n",
      "<input name=\"v:project\" type=\"hidden\" value=\"firstgov\"/>\n",
      "<label for=\"query\">Search For</label>\n",
      "<input id=\"query\" name=\"query\" size=\"12\" type=\"text\"/>\n",
      "<input type=\"submit\" value=\"Go\"/>\n",
      "<p>\n",
      "<input checked=\"checked\" id=\"nws\" name=\"affiliate\" type=\"radio\" value=\"nws.noaa.gov\"/>\n",
      "<label class=\"search-scope\" for=\"nws\">NWS</label>\n",
      "<input id=\"noaa\" name=\"affiliate\" type=\"radio\" value=\"noaa.gov\"/>\n",
      "<label class=\"search-scope\" for=\"noaa\">All NOAA</label>\n",
      "</p>\n",
      "</form>\n",
      "</div>\n",
      "</li>\n",
      "</ul> </li>\n",
      "<li class=\"dropdown\"><a class=\"dropdown-toggle\" data-toggle=\"dropdown\" href=\"http://www.weather.gov/about\">ABOUT <span class=\"caret\"></span></a><ul class=\"dropdown-menu\" role=\"menu\"><li><a href=\"http://www.weather.gov/about\">About NWS</a></li><li><a href=\"http://www.weather.gov/organization\">Organization</a></li><li><a href=\"https://www.weather.gov/media/wrn/NWS_Weather-Ready-Nation_Strategic_Plan_2019-2022.pdf\">Strategic Plan</a></li><li><a href=\"https://sites.google.com/a/noaa.gov/nws-insider/\">For NWS Employees</a></li><li><a href=\"http://www.weather.gov/international/\">International</a></li><li><a href=\"http://www.weather.gov/organization\">National Centers</a></li><li><a href=\"http://www.weather.gov/careers/\">Careers</a></li><li><a href=\"http://www.weather.gov/contact\">Contact Us</a></li><li><a href=\"https://w1.weather.gov/glossary\">Glossary</a></li></ul> </li>\n",
      "</ul>\n",
      "</div>\n",
      "</div>\n",
      "</nav>\n",
      "<div class=\"contentArea\">\n",
      "<!-- Start Forecastsearch -->\n",
      "<div class=\"\" id=\"fcst-search\">\n",
      "<form action=\"https://forecast.weather.gov/zipcity.php\" class=\"form-inline\" id=\"getForecast\" method=\"get\" name=\"getForecast\" role=\"form\">\n",
      "<div id=\"getfcst-body\">\n",
      "<input class=\"form-control\" id=\"inputstring\" name=\"inputstring\" placeholder=\"\" type=\"text\"/>\n",
      "<input class=\"btn btn-default\" id=\"btnSearch\" name=\"btnSearch\" type=\"submit\" value=\"Go\"/>\n",
      "<div id=\"txtHelp\"><a href=\"javascript:void(window.open('http://weather.gov/ForecastSearchHelp.html','locsearchhelp','status=0,toolbar=0,location=0,menubar=0,directories=0,resizable=1,scrollbars=1,height=500,width=530').focus());\">View Location Examples</a></div>\n",
      "</div>\n",
      "<div id=\"txtError\">\n",
      "<div id=\"errorNoResults\" style=\"display:none;\">Sorry, the location you searched for was not found. Please try another search.</div>\n",
      "<div id=\"errorMultipleResults\" style=\"display:none\">Multiple locations were found. Please select one of the following:</div>\n",
      "<div id=\"errorChoices\" style=\"display:none\"></div>\n",
      "<input id=\"btnCloseError\" style=\"display:none\" type=\"button\" value=\"Close\"/>\n",
      "</div>\n",
      "<div id=\"getfcst-head\">\n",
      "<p>Your local forecast office is</p>\n",
      "<h3 id=\"getfcst-headOffice\"></h3>\n",
      "</div>\n",
      "</form>\n",
      "</div>\n",
      "<!-- end Forecastsearch -->\n",
      "<link href=\"/css/topnews.css\" rel=\"stylesheet\" type=\"text/css\"/>\n",
      "<div id=\"news-items\">\n",
      "<div id=\"topnews\">\n",
      "<div class=\"icon\"><img src=\"/images/news-important.jpg\"/></div>\n",
      "<div class=\"body\">\n",
      "<h1 style=\"font-size: 11pt;\">Heavy Rainfall and Severe Thunderstorms Into Tuesday From the Southern Plains and Mid-South to the Southeast</h1>\n",
      "<p>\n",
      "            Showers and scattered strong to severe thunderstorms will impact parts of the Plains, Southeast, and Ohio Valley into Tuesday. Locally heavy rainfall and flooding are also possible in these areas. Meanwhile, dry and gusty conditions will result in fire weather concerns across parts of California. Snow will gradually come to an end across the northern and central Rockies.\n",
      "            <a href=\"http://www.wpc.ncep.noaa.gov/discussions/hpcdiscussions.php?disc=pmdspd\" target=\"_blank\">Read More &gt;</a>\n",
      "</p>\n",
      "</div>\n",
      "</div>\n",
      "</div>\n",
      "<script type=\"text/javascript\">(function ($) { var topnews = $(\"#topnews\"); topnews.hide(); $.get(\"siteNews.php\", {a:\"ind\"},function(response){ if (response !== \"false\") topnews.replaceWith($(response)); topnews.show(); }); })(jQuery);</script><!-- PageFormat-Land -->\n",
      "<script language=\"javascript\">document.title = $('<div/>').html('7-Day Forecast for Latitude 39.77&deg;N and Longitude 86.16&deg;W (Elev. 728 ft)').text();</script><img src=\"images/track_land_point.png\" style=\"display:none;\"><div class=\"panel panel-danger\"><div class=\"panel-heading\"><h3 class=\"panel-title\">Hazardous Weather Conditions</h3></div><div class=\"panel-body\"><ul><li><a class=\"anchor-hazards\" href=\"showsigwx.php?warnzone=INZ047&amp;warncounty=INC097&amp;firewxzone=INZ047&amp;local_place1=Indianapolis IN&amp;product1=Hazardous+Weather+Outlook&amp;lat=39.7669&amp;lon=-86.1501\" id=\"hazard-INZ047-Hazardous+Weather+Outlook-0\">Hazardous Weather Outlook </a></li></ul></div></div>\n",
      "<div id=\"quickLinks\">\n",
      "<span class=\"lang-spanish\"><a href=\"//forecast.weather.gov/MapClick.php?lat=39.76691000000005&amp;lon=-86.15011999999996&amp;lg=sp\">En Español</a></span>\n",
      "<div class=\"addthis_toolbox addthis_default_style addthis-forecast\">\n",
      "<a class=\"addthis_button_compact\" href=\"//www.addthis.com/bookmark.php?v=250&amp;pubid=ra-5127a6364d551d04\">Share</a>\n",
      "<span class=\"addthis_separator\">|</span>\n",
      "<a class=\"addthis_button_preferred_1\"></a>\n",
      "<a class=\"addthis_button_preferred_2\"></a>\n",
      "<a class=\"addthis_button_preferred_3\"></a>\n",
      "<a class=\"addthis_button_preferred_4\"></a>\n",
      "<a class=\"addthis_button_preferred_5\"></a>\n",
      "</div>\n",
      "<script type=\"text/javascript\">\n",
      "\t\tvar addthis_config = addthis_config || {data_track_addressbar:true, pubid: 'xa-4b05b2d91f18c9cc'};\n",
      "\t    $(document).ready(function(){\n",
      "\t\t\tjQuery.ajax({\n",
      "\t\t\t\turl: \"//s7.addthis.com/js/300/addthis_widget.js#async=1\",\n",
      "\t\t\t\tdataType: \"script\",\n",
      "\t\t\t\tcache: false\n",
      "\t\t\t});\n",
      "\t    });\n",
      "\t</script>\n",
      "</div>\n",
      "<!-- Current Conditions -->\n",
      "<div class=\"panel panel-default\" id=\"current-conditions\">\n",
      "<!-- Current Conditions header row -->\n",
      "<div class=\"panel-heading\">\n",
      "<div>\n",
      "<b>Current conditions at</b>\n",
      "<h2 class=\"panel-title\">Indianapolis International Airport (KIND)</h2>\n",
      "<span class=\"smallTxt\"><b>Lat: </b>39.73°N<b>Lon: </b>86.28°W<b>Elev: </b>790ft.</span>\n",
      "</div>\n",
      "</div>\n",
      "<div class=\"panel-body\" id=\"current-conditions-body\">\n",
      "<!-- Graphic and temperatures -->\n",
      "<div class=\"pull-left\" id=\"current_conditions-summary\">\n",
      "<img alt=\"\" class=\"pull-left\" src=\"newimages/large/nra.png\"/>\n",
      "<p class=\"myforecast-current\"> Light Rain</p>\n",
      "<p class=\"myforecast-current-lrg\">66°F</p>\n",
      "<p class=\"myforecast-current-sm\">19°C</p>\n",
      "</div>\n",
      "<div class=\"pull-left\" id=\"current_conditions_detail\">\n",
      "<table>\n",
      "<tr>\n",
      "<td class=\"text-right\"><b>Humidity</b></td>\n",
      "<td>87%</td>\n",
      "</tr>\n",
      "<tr>\n",
      "<td class=\"text-right\"><b>Wind Speed</b></td>\n",
      "<td>S 9 mph</td>\n",
      "</tr>\n",
      "<tr>\n",
      "<td class=\"text-right\"><b>Barometer</b></td>\n",
      "<td>29.68 in (1004.6 mb)</td>\n",
      "</tr>\n",
      "<tr>\n",
      "<td class=\"text-right\"><b>Dewpoint</b></td>\n",
      "<td>62°F (17°C)</td>\n",
      "</tr>\n",
      "<tr>\n",
      "<td class=\"text-right\"><b>Visibility</b></td>\n",
      "<td>10.00 mi</td>\n",
      "</tr>\n",
      "<tr>\n",
      "<td class=\"text-right\"><b>Last update</b></td>\n",
      "<td>\n",
      "                4 May 1:54 am EDT            </td>\n",
      "</tr>\n",
      "</table>\n",
      "</div>\n",
      "<div id=\"current_conditions_station\">\n",
      "<div class=\"current-conditions-extra\">\n",
      "<!-- Right hand section -->\n",
      "<p class=\"moreInfo\"><b>More Information:</b></p><p><a href=\"https://www.weather.gov/ind\" id=\"localWFO\" title=\"Indianapolis, IN\"><span class=\"hideText\">Local</span> Forecast Office</a><a href=\"obslocal.php?warnzone=INZ047&amp;local_place=Indianapolis IN&amp;zoneid=EDT&amp;offset=14400\" id=\"moreWx\">More Local Wx</a><a href=\"//www.weather.gov/data/obhistory/KIND.html\" id=\"3dayHist\">3 Day History</a><a href=\"//mobile.weather.gov/index.php?lat=39.7669&amp;lon=-86.1501&amp;unit=0&amp;lg=english\" id=\"mobileWxLink\">Mobile Weather</a><a href=\"MapClick.php?lat=39.7669&amp;lon=-86.1501&amp;unit=0&amp;lg=english&amp;FcstType=graphical\" id=\"wxGraph\">Hourly <span class=\"hideText\">Weather </span>Forecast</a></p> </div>\n",
      "<!-- /current_conditions_station -->\n",
      "</div>\n",
      "<!-- /current-conditions-body -->\n",
      "</div>\n",
      "<!-- /Current Conditions -->\n",
      "</div>\n",
      "<!-- 7-Day Forecast -->\n",
      "<div class=\"panel panel-default\" id=\"seven-day-forecast\">\n",
      "<div class=\"panel-heading\">\n",
      "<b>Extended Forecast for</b>\n",
      "<h2 class=\"panel-title\">\n",
      "\t    \t    Indianapolis IN\t</h2>\n",
      "</div>\n",
      "<div class=\"panel-body\" id=\"seven-day-forecast-body\">\n",
      "<div id=\"seven-day-forecast-container\"><ul class=\"list-unstyled\" id=\"seven-day-forecast-list\"><li class=\"forecast-tombstone\">\n",
      "<div class=\"tombstone-container\">\n",
      "<p class=\"period-name\">Overnight<br/><br/></p>\n",
      "<p><img alt=\"Overnight: Scattered showers and thunderstorms.  Cloudy, with a low around 60. South southwest wind around 8 mph.  Chance of precipitation is 50%. New rainfall amounts of less than a tenth of an inch, except higher amounts possible in thunderstorms. \" class=\"forecast-icon\" src=\"newimages/medium/ntsra50.png\" title=\"Overnight: Scattered showers and thunderstorms.  Cloudy, with a low around 60. South southwest wind around 8 mph.  Chance of precipitation is 50%. New rainfall amounts of less than a tenth of an inch, except higher amounts possible in thunderstorms. \"/></p><p class=\"short-desc\">Scattered<br/>T-storms</p><p class=\"temp temp-low\">Low: 60 °F</p></div></li><li class=\"forecast-tombstone\">\n",
      "<div class=\"tombstone-container\">\n",
      "<p class=\"period-name\">Tuesday<br/><br/></p>\n",
      "<p><img alt=\"Tuesday: Scattered showers and thunderstorms, then showers likely and possibly a thunderstorm after 10am.  Cloudy, with a high near 65. North wind around 8 mph.  Chance of precipitation is 70%. New rainfall amounts between a tenth and quarter of an inch, except higher amounts possible in thunderstorms. \" class=\"forecast-icon\" src=\"newimages/medium/shra70.png\" title=\"Tuesday: Scattered showers and thunderstorms, then showers likely and possibly a thunderstorm after 10am.  Cloudy, with a high near 65. North wind around 8 mph.  Chance of precipitation is 70%. New rainfall amounts between a tenth and quarter of an inch, except higher amounts possible in thunderstorms. \"/></p><p class=\"short-desc\">Showers<br/>Likely</p><p class=\"temp temp-high\">High: 65 °F</p></div></li><li class=\"forecast-tombstone\">\n",
      "<div class=\"tombstone-container\">\n",
      "<p class=\"period-name\">Tuesday<br/>Night</p>\n",
      "<p><img alt=\"Tuesday Night: Showers likely and possibly a thunderstorm.  Mostly cloudy, with a low around 46. North wind 8 to 11 mph, with gusts as high as 18 mph.  Chance of precipitation is 70%. New precipitation amounts between a tenth and quarter of an inch, except higher amounts possible in thunderstorms. \" class=\"forecast-icon\" src=\"newimages/medium/nshra70.png\" title=\"Tuesday Night: Showers likely and possibly a thunderstorm.  Mostly cloudy, with a low around 46. North wind 8 to 11 mph, with gusts as high as 18 mph.  Chance of precipitation is 70%. New precipitation amounts between a tenth and quarter of an inch, except higher amounts possible in thunderstorms. \"/></p><p class=\"short-desc\">Showers<br/>Likely</p><p class=\"temp temp-low\">Low: 46 °F</p></div></li><li class=\"forecast-tombstone\">\n",
      "<div class=\"tombstone-container\">\n",
      "<p class=\"period-name\">Wednesday<br/><br/></p>\n",
      "<p><img alt=\"Wednesday: Scattered showers before 9am.  Mostly sunny, with a high near 61. North northwest wind 9 to 13 mph, with gusts as high as 22 mph.  Chance of precipitation is 40%.\" class=\"forecast-icon\" src=\"DualImage.php?i=hi_shwrs&amp;j=sct&amp;ip=40\" title=\"Wednesday: Scattered showers before 9am.  Mostly sunny, with a high near 61. North northwest wind 9 to 13 mph, with gusts as high as 22 mph.  Chance of precipitation is 40%.\"/></p><p class=\"short-desc\">Scattered<br/>Showers then<br/>Mostly Sunny</p><p class=\"temp temp-high\">High: 61 °F</p></div></li><li class=\"forecast-tombstone\">\n",
      "<div class=\"tombstone-container\">\n",
      "<p class=\"period-name\">Wednesday<br/>Night</p>\n",
      "<p><img alt=\"Wednesday Night: Partly cloudy, with a low around 42. North wind 5 to 8 mph becoming calm  after midnight. \" class=\"forecast-icon\" src=\"newimages/medium/nsct.png\" title=\"Wednesday Night: Partly cloudy, with a low around 42. North wind 5 to 8 mph becoming calm  after midnight. \"/></p><p class=\"short-desc\">Partly Cloudy</p><p class=\"temp temp-low\">Low: 42 °F</p></div></li><li class=\"forecast-tombstone\">\n",
      "<div class=\"tombstone-container\">\n",
      "<p class=\"period-name\">Thursday<br/><br/></p>\n",
      "<p><img alt=\"Thursday: A 30 percent chance of showers after 3pm.  Mostly cloudy, with a high near 61.\" class=\"forecast-icon\" src=\"DualImage.php?i=bkn&amp;j=shra&amp;jp=30\" title=\"Thursday: A 30 percent chance of showers after 3pm.  Mostly cloudy, with a high near 61.\"/></p><p class=\"short-desc\">Partly Sunny<br/>then Chance<br/>Showers</p><p class=\"temp temp-high\">High: 61 °F</p></div></li><li class=\"forecast-tombstone\">\n",
      "<div class=\"tombstone-container\">\n",
      "<p class=\"period-name\">Thursday<br/>Night</p>\n",
      "<p><img alt=\"Thursday Night: A 30 percent chance of showers before 9pm.  Mostly cloudy, with a low around 42.\" class=\"forecast-icon\" src=\"DualImage.php?i=nshra&amp;j=nsct&amp;ip=30\" title=\"Thursday Night: A 30 percent chance of showers before 9pm.  Mostly cloudy, with a low around 42.\"/></p><p class=\"short-desc\">Chance<br/>Showers then<br/>Partly Cloudy</p><p class=\"temp temp-low\">Low: 42 °F</p></div></li><li class=\"forecast-tombstone\">\n",
      "<div class=\"tombstone-container\">\n",
      "<p class=\"period-name\">Friday<br/><br/></p>\n",
      "<p><img alt=\"Friday: Mostly sunny, with a high near 63.\" class=\"forecast-icon\" src=\"newimages/medium/sct.png\" title=\"Friday: Mostly sunny, with a high near 63.\"/></p><p class=\"short-desc\">Mostly Sunny</p><p class=\"temp temp-high\">High: 63 °F</p></div></li><li class=\"forecast-tombstone\">\n",
      "<div class=\"tombstone-container\">\n",
      "<p class=\"period-name\">Friday<br/>Night</p>\n",
      "<p><img alt=\"Friday Night: Partly cloudy, with a low around 44.\" class=\"forecast-icon\" src=\"newimages/medium/nsct.png\" title=\"Friday Night: Partly cloudy, with a low around 44.\"/></p><p class=\"short-desc\">Partly Cloudy</p><p class=\"temp temp-low\">Low: 44 °F</p></div></li></ul></div>\n",
      "<script type=\"text/javascript\">\n",
      "// equalize forecast heights\n",
      "$(function () {\n",
      "\tvar maxh = 0;\n",
      "\t$(\".forecast-tombstone .short-desc\").each(function () {\n",
      "\t\tvar h = $(this).height();\n",
      "\t\tif (h > maxh) { maxh = h; }\n",
      "\t});\n",
      "\t$(\".forecast-tombstone .short-desc\").height(maxh);\n",
      "});\n",
      "</script> </div>\n",
      "</div>\n",
      "<!-- Everything between 7-Day Forecast and Footer goes in this row -->\n",
      "<div class=\"row\" id=\"floatingDivs\">\n",
      "<!-- Everything on the left-hand side -->\n",
      "<div class=\"col-md-7 col-lg-8\">\n",
      "<!-- Detailed Forecast -->\n",
      "<div class=\"panel panel-default\" id=\"detailed-forecast\">\n",
      "<div class=\"panel-heading\">\n",
      "<h2 class=\"panel-title\">Detailed Forecast</h2>\n",
      "</div>\n",
      "<div class=\"panel-body\" id=\"detailed-forecast-body\">\n",
      "<div class=\"row row-odd row-forecast\"><div class=\"col-sm-2 forecast-label\"><b>Overnight</b></div><div class=\"col-sm-10 forecast-text\">Scattered showers and thunderstorms.  Cloudy, with a low around 60. South southwest wind around 8 mph.  Chance of precipitation is 50%. New rainfall amounts of less than a tenth of an inch, except higher amounts possible in thunderstorms. </div></div><div class=\"row row-even row-forecast\"><div class=\"col-sm-2 forecast-label\"><b>Tuesday</b></div><div class=\"col-sm-10 forecast-text\">Scattered showers and thunderstorms, then showers likely and possibly a thunderstorm after 10am.  Cloudy, with a high near 65. North wind around 8 mph.  Chance of precipitation is 70%. New rainfall amounts between a tenth and quarter of an inch, except higher amounts possible in thunderstorms. </div></div><div class=\"row row-odd row-forecast\"><div class=\"col-sm-2 forecast-label\"><b>Tuesday Night</b></div><div class=\"col-sm-10 forecast-text\">Showers likely and possibly a thunderstorm.  Mostly cloudy, with a low around 46. North wind 8 to 11 mph, with gusts as high as 18 mph.  Chance of precipitation is 70%. New precipitation amounts between a tenth and quarter of an inch, except higher amounts possible in thunderstorms. </div></div><div class=\"row row-even row-forecast\"><div class=\"col-sm-2 forecast-label\"><b>Wednesday</b></div><div class=\"col-sm-10 forecast-text\">Scattered showers before 9am.  Mostly sunny, with a high near 61. North northwest wind 9 to 13 mph, with gusts as high as 22 mph.  Chance of precipitation is 40%.</div></div><div class=\"row row-odd row-forecast\"><div class=\"col-sm-2 forecast-label\"><b>Wednesday Night</b></div><div class=\"col-sm-10 forecast-text\">Partly cloudy, with a low around 42. North wind 5 to 8 mph becoming calm  after midnight. </div></div><div class=\"row row-even row-forecast\"><div class=\"col-sm-2 forecast-label\"><b>Thursday</b></div><div class=\"col-sm-10 forecast-text\">A 30 percent chance of showers after 3pm.  Mostly cloudy, with a high near 61.</div></div><div class=\"row row-odd row-forecast\"><div class=\"col-sm-2 forecast-label\"><b>Thursday Night</b></div><div class=\"col-sm-10 forecast-text\">A 30 percent chance of showers before 9pm.  Mostly cloudy, with a low around 42.</div></div><div class=\"row row-even row-forecast\"><div class=\"col-sm-2 forecast-label\"><b>Friday</b></div><div class=\"col-sm-10 forecast-text\">Mostly sunny, with a high near 63.</div></div><div class=\"row row-odd row-forecast\"><div class=\"col-sm-2 forecast-label\"><b>Friday Night</b></div><div class=\"col-sm-10 forecast-text\">Partly cloudy, with a low around 44.</div></div><div class=\"row row-even row-forecast\"><div class=\"col-sm-2 forecast-label\"><b>Saturday</b></div><div class=\"col-sm-10 forecast-text\">A 50 percent chance of showers after 9am.  Partly sunny, with a high near 63.</div></div><div class=\"row row-odd row-forecast\"><div class=\"col-sm-2 forecast-label\"><b>Saturday Night</b></div><div class=\"col-sm-10 forecast-text\">Showers likely and possibly a thunderstorm.  Mostly cloudy, with a low around 53. Chance of precipitation is 70%.</div></div><div class=\"row row-even row-forecast\"><div class=\"col-sm-2 forecast-label\"><b>Sunday</b></div><div class=\"col-sm-10 forecast-text\">Showers likely and possibly a thunderstorm.  Mostly cloudy, with a high near 70. Chance of precipitation is 70%.</div></div><div class=\"row row-odd row-forecast\"><div class=\"col-sm-2 forecast-label\"><b>Sunday Night</b></div><div class=\"col-sm-10 forecast-text\">Showers likely and possibly a thunderstorm.  Mostly cloudy, with a low around 56. Chance of precipitation is 60%.</div></div><div class=\"row row-even row-forecast\"><div class=\"col-sm-2 forecast-label\"><b>Monday</b></div><div class=\"col-sm-10 forecast-text\">A 50 percent chance of showers.  Mostly cloudy, with a high near 69.</div></div> </div>\n",
      "</div>\n",
      "<!-- /Detailed Forecast -->\n",
      "<!-- Additional Forecasts and Information -->\n",
      "<div class=\"panel panel-default\" id=\"additional_forecasts\">\n",
      "<div class=\"panel-heading\">\n",
      "<h2 class=\"panel-title\">Additional Forecasts and Information</h2>\n",
      "</div>\n",
      "<div class=\"panel-body\" id=\"additional-forecasts-body\">\n",
      "<p class=\"myforecast-location\"><a href=\"MapClick.php?zoneid=INZ047\">Zone Area Forecast for Marion County, IN</a></p>\n",
      "<!-- First nine-ten links -->\n",
      "<div id=\"linkBlockContainer\">\n",
      "<div class=\"linkBlock\">\n",
      "<ul class=\"list-unstyled\">\n",
      "<li><a href=\"//forecast.weather.gov/product.php?site=IND&amp;issuedby=IND&amp;product=AFD&amp;format=CI&amp;version=1&amp;glossary=1\">Forecast Discussion</a></li>\n",
      "<li><a href=\"MapClick.php?lat=39.7669&amp;lon=-86.1501&amp;unit=0&amp;lg=english&amp;FcstType=text&amp;TextType=2\">Printable Forecast</a></li>\n",
      "<li><a href=\"MapClick.php?lat=39.7669&amp;lon=-86.1501&amp;unit=0&amp;lg=english&amp;FcstType=text&amp;TextType=1\">Text Only Forecast</a></li>\n",
      "</ul>\n",
      "</div>\n",
      "<div class=\"linkBlock\">\n",
      "<ul class=\"list-unstyled\">\n",
      "<li><a href=\"MapClick.php?lat=39.7669&amp;lon=-86.1501&amp;unit=0&amp;lg=english&amp;FcstType=graphical\">Hourly Weather Forecast</a></li>\n",
      "<li><a href=\"MapClick.php?lat=39.7669&amp;lon=-86.1501&amp;unit=0&amp;lg=english&amp;FcstType=digital\">Tabular Forecast</a></li>\n",
      "<!-- <li><a href=\"afm/PointClick.php?lat=39.7669&lon=-86.1501\">Quick Forecast</a></li> -->\n",
      "</ul>\n",
      "</div>\n",
      "<div class=\"linkBlock\">\n",
      "<ul class=\"list-unstyled\">\n",
      "<li><a href=\"//weather.gov/aq/probe_aq_data.php?latitude=39.7669&amp;longitude=-86.1501\">Air Quality Forecasts</a></li>\n",
      "<li><a href=\"MapClick.php?lat=39.7669&amp;lon=-86.1501&amp;FcstType=text&amp;unit=1&amp;lg=en\">International System of Units</a></li>\n",
      "</ul>\n",
      "</div>\n",
      "<!-- /First nine-ten links -->\n",
      "<!-- Additional links -->\n",
      "<div class=\"linkBlock\"><ul class=\"list-unstyled\"><li><a href=\"http://www.weather.gov/ind/localcli\" target=\"_self\">Local Climatology</a></li><li><a href=\"http://www.weather.gov/ind/localsevereweathertabs\" target=\"_self\">Severe Weather</a></li><li><a href=\"http://water.weather.gov/ahps2/index.php?wfo=ind\" target=\"_self\">Hydrology (AHPS)</a></li><li><a href=\"http://www.wpc.ncep.noaa.gov/qpf/qpf2.shtml\" target=\"_self\">Precipitation</a></li></ul></div><div class=\"linkBlock\"><ul class=\"list-unstyled\"><li><a href=\"http://www.weather.gov/ind/aviation\" target=\"_self\">Aviation</a></li><li><a href=\"http://www.weather.gov/ind/winter\" target=\"_self\">Winter Weather</a></li><li><a href=\"http://www.weather.gov/ind/nwr\" target=\"_self\">NOAA Weather Radio</a></li><li><a href=\"http://www.weather.gov/ind/wnew\" target=\"_self\">What's New at IND?</a></li></ul></div><div class=\"linkBlock\"><ul class=\"list-unstyled\"><li><a href=\"http://www.weather.gov/ind/INDWxbrief\" target=\"_self\">Central Indiana Overview</a></li><li><a href=\"https://www.weather.gov/crh/stormreports?sid=ind\" target=\"_self\">Submit a Severe Storm or a Winter Storm Report</a></li><li><a href=\"http://www.weather.gov/ind/aboutus\" target=\"_self\">Our Office</a></li></ul></div>\n",
      "</div> <!-- /linkBlockContainer -->\n",
      "</div><!-- /additional-forecasts-body-->\n",
      "</div> <!-- /additional_forecasts -->\n",
      "</div> <!-- /Everything on the left-hand side -->\n",
      "<!-- right-side-data -->\n",
      "<div class=\"col-md-5 col-lg-4\" id=\"right-side-data\">\n",
      "<div id=\"mapAndDescriptionArea\">\n",
      "<!-- openlayer map -->\n",
      "<style>\n",
      "#custom-search{\n",
      "display: block;\n",
      "position: relative;\n",
      "z-index: 50;\n",
      "top: 52px;\n",
      "left: 60px;\n",
      "}\n",
      "#esri-geocoder-search{\n",
      "display: block;\n",
      "position: relative;\n",
      "z-index: 50;\n",
      "top: 52px;\n",
      "left: 60px;\n",
      "}\n",
      "#emap{\n",
      "margin-top:15px;\n",
      "cursor:pointer;\n",
      "height:370px;\n",
      "width:100%;\n",
      "border: 1px solid #ccc;\n",
      "border-radius: 3px;\n",
      "}\n",
      "#switch-basemap-container{\n",
      "}\n",
      "#basemap-selection-form ul{\n",
      "list-style: none;\n",
      " margin: 0px;\n",
      "}\n",
      "#basemap-selection-form li{\n",
      "float: left;\n",
      "}\n",
      ".disclaimer{\n",
      "margin-top:350px;\n",
      "margin-left: 5px;\n",
      "z-index: 100;\n",
      "position: absolute;\n",
      "text-transform: none;\n",
      "}\n",
      ".esriAttributionLastItem{\n",
      "text-transform: none;\n",
      "}\n",
      ".esriSimpleSlider div{\n",
      "height:22px;\n",
      "line-height:20px;\n",
      "width:20px;\n",
      "}\n",
      "#point-forecast-map-label {\n",
      "text-align:center;\n",
      "font-weight:bold;\n",
      "color:black;\n",
      "}\n",
      "@media (max-width: 767px) {\n",
      "#emap{\n",
      "margin-top:.5em;\n",
      "height:270px;\n",
      "}\n",
      ".disclaimer{\n",
      "margin-top:250px;\n",
      "}\n",
      "}\n",
      "</style>\n",
      "<!-- forecast-map -->\n",
      "<div class=\"point-forecast-map\">\n",
      "<div class=\"point-forecast-map-header text-center\">\n",
      "<div id=\"toolbar\">\n",
      "<div id=\"switch-basemap-container\">\n",
      "<div id=\"basemap-selection-form\" title=\"Choose a Basemap\">\n",
      "<div id=\"basemap-menu\">\n",
      "<select autocomplete=\"off\" id=\"basemap-selected\" name=\"basemap-selected\" title=\"Basemap Dropdown Menu\">\n",
      "<option value=\"none\">Select Basemap</option>\n",
      "<option selected=\"\" value=\"topo\">Topographic</option>\n",
      "<option value=\"streets\">Streets</option>\n",
      "<option value=\"satellite\">Satellite</option>\n",
      "<option value=\"ocean\">Ocean</option>\n",
      "</select>\n",
      "</div>\n",
      "</div>\n",
      "<div id=\"point-forecast-map-label\">\n",
      "                    Click Map For Forecast\n",
      "                </div>\n",
      "</div><!-- //#switch-basemap-container -->\n",
      "<div style=\"clear:both;\"></div>\n",
      "</div><!-- //#toolbar -->\n",
      "</div><!-- //.point-forecast-map-header -->\n",
      "<div id=\"emap\">\n",
      "<noscript><center><br/><br/><b>Map function requires Javascript and a compatible browser.</b></center></noscript>\n",
      "<div class=\"disclaimer\"><a href=\"http://www.weather.gov/disclaimer#esri\">Disclaimer</a></div>\n",
      "</div><!-- //#emap -->\n",
      "<div class=\"point-forecast-map-footer\">\n",
      "<img alt=\"Map Legend\" height=\"16\" src=\"./images/wtf/maplegend_forecast-area.gif\" width=\"100\"/>\n",
      "</div><!-- //.point-forecast-map-footer -->\n",
      "</div> <!-- //.point-forecast-map -->\n",
      "<!-- //forecast-map -->\n",
      "<!-- //openlayer map -->\n",
      "<!-- About this Forecast -->\n",
      "<div id=\"about_forecast\">\n",
      "<div class=\"fullRow\">\n",
      "<div class=\"left\">Point Forecast:</div>\n",
      "<div class=\"right\">Indianapolis IN<br/> 39.77°N 86.16°W (Elev. 728 ft)</div>\n",
      "</div>\n",
      "<div class=\"fullRow\">\n",
      "<div class=\"left\"><a href=\"//www.weather.gov/glossary/index.php?word=Last+update\" target=\"_blank\">Last Update</a>: </div>\n",
      "<div class=\"right\">1:45 am EDT May 4, 2021</div>\n",
      "</div>\n",
      "<div class=\"fullRow\">\n",
      "<div class=\"left\"><a href=\"//www.weather.gov/glossary/index.php?word=forecast+valid+for\" target=\"_blank\">Forecast Valid</a>: </div>\n",
      "<div class=\"right\">2am EDT May 4, 2021-6pm EDT May 10, 2021</div>\n",
      "</div>\n",
      "<div class=\"fullRow\">\n",
      "<div class=\"left\"> </div>\n",
      "<div class=\"right\"><a href=\"https://forecast.weather.gov/product.php?site=IND&amp;issuedby=IND&amp;product=AFD&amp;format=CI&amp;version=1&amp;glossary=1\">Forecast Discussion</a></div>\n",
      "</div>\n",
      "<div class=\"fullRow\">\n",
      "<div class=\"left\"> </div>\n",
      "<div class=\"right\">\n",
      "<a href=\"MapClick.php?lat=39.7669&amp;lon=-86.1501&amp;unit=0&amp;lg=english&amp;FcstType=kml\"><img alt=\"Get as KML\" height=\"17\" src=\"/images/wtf/kml_badge.png\" width=\"45\"/></a>\n",
      "<a href=\"MapClick.php?lat=39.7669&amp;lon=-86.1501&amp;unit=0&amp;lg=english&amp;FcstType=dwml\"><img alt=\"Get as XML\" height=\"17\" src=\"/images/wtf/xml_badge.png\" width=\"45\"/></a>\n",
      "</div>\n",
      "</div>\n",
      "</div>\n",
      "<!-- /About this Forecast -->\n",
      "</div>\n",
      "<!--additionalForecast-->\n",
      "<div class=\"panel panel-default\" id=\"additionalForecast\">\n",
      "<div class=\"panel-heading\">\n",
      "<h2 class=\"panel-title\">Additional Resources</h2>\n",
      "</div>\n",
      "<div class=\"panel-body\">\n",
      "<!-- Radar & Satellite Images -->\n",
      "<div class=\"subItem\" id=\"radar\">\n",
      "<h4>Radar &amp; Satellite Image</h4>\n",
      "<a href=\"https://radar.weather.gov/?settings=v1_eyJhZ2VuZGEiOnsiaWQiOiJsb2NhbCIsImNlbnRlciI6Wy04Ni4yOCwzOS43MDddLCJ6b29tIjo3LCJmaWx0ZXIiOiJXU1ItODhEIiwibGF5ZXIiOiJicmVmX3JhdyIsInN0YXRpb24iOiJLSU5EIiwidHJhbnNwYXJlbnQiOnRydWUsImFsZXJ0c092ZXJsYXkiOnRydWUsInN0YXRpb25JY29uc092ZXJsYXkiOnRydWV9LCJiYXNlIjoic3RhbmRhcmQiLCJjb3VudHkiOmZhbHNlLCJjd2EiOmZhbHNlLCJzdGF0ZSI6ZmFsc2UsIm1lbnUiOnRydWUsInNob3J0RnVzZWRPbmx5Ijp0cnVlfQ%3D%3D#/\"><img alt=\"Link to Local Radar Data\" class=\"radar-thumb\" src=\"//radar.weather.gov/ridge/lite/KIND_0.gif\" title=\"Link to Local Radar Data\"/></a> <a href=\"https://www.star.nesdis.noaa.gov/GOES/GOES16_CONUS.php\"><img alt=\"Link to Satellite Data\" class=\"satellite-thumb\" src=\"https://cdn.star.nesdis.noaa.gov/GOES16/ABI/CONUS/GEOCOLOR/625x375.jpg\" title=\"Link to Satellite Data\"/></a> </div>\n",
      "<!-- /Radar & Satellite Images -->\n",
      "<!-- Hourly Weather Forecast -->\n",
      "<div class=\"subItem\" id=\"feature\">\n",
      "<h4>Hourly Weather Forecast</h4>\n",
      "<a href=\"MapClick.php?lat=39.7669&amp;lon=-86.1501&amp;unit=0&amp;lg=english&amp;FcstType=graphical\"><img class=\"img-responsive\" src=\"newimages/medium/hourlyweather.png\"/></a>\n",
      "</div>\n",
      "<!-- /Hourly Weather Forecast -->\n",
      "<!-- NDFD -->\n",
      "<div class=\"subItem\" id=\"NDFD\">\n",
      "<h4>National Digital Forecast Database</h4>\n",
      "<div class=\"one-sixth-first\"><a href=\"//graphical.weather.gov/sectors/centmissvly.php?element=MaxT\"><img alt=\"National Digital Forecast Database Maximum Temperature Forecast\" border=\"0\" height=\"150\" src=\"//graphical.weather.gov/images/thumbnail/latest_MaxMinT_centmissvly_thumbnail.png\" title=\"National Digital Forecast Database Maximum Temperature Forecast\" width=\"147\"/></a>\n",
      "<p><a href=\"//graphical.weather.gov/sectors/centmissvly.php?element=MaxT\">High Temperature</a></p></div><div class=\"one-sixth-first\"><a href=\"//graphical.weather.gov/sectors/centmissvly.php?element=Wx\"><img alt=\"National Digital Forecast Database Weather Element Forecast\" border=\"0\" height=\"150\" src=\"//graphical.weather.gov/images/thumbnail/latest_Wx_centmissvly_thumbnail.png\" title=\"National Digital Forecast Database Weather Element Forecast\" width=\"147\"/></a>\n",
      "<p><a href=\"//graphical.weather.gov/sectors/centmissvly.php?element=Wx\">Chance of Precipitation</a></p></div> </div>\n",
      "<!-- /NDFD -->\n",
      "</div>\n",
      "</div>\n",
      "<!-- /additionalForecast -->\n",
      "</div>\n",
      "<!-- /col-md-4 -->\n",
      "<!-- /right-side-data -->\n",
      "<script language=\"javascript\">$( document ).ready(function() { load_openlayers_map('', '', '', '{\"centroid_lat\":\"39.7669\",\"centroid_lon\":\"-86.1501\",\"lat1\":\"39.757\",\"lon1\":\"-86.1735\",\"lat2\":\"39.779\",\"lon2\":\"-86.1715\",\"lat3\":\"39.7775\",\"lon3\":\"-86.1425\",\"lat4\":\"39.7555\",\"lon4\":\"-86.1445\"}') });</script></div>\n",
      "<!-- /row  -->\n",
      "</img></div>\n",
      "<!-- /PageFormat-Land -->\n",
      "\n",
      "<footer>\n",
      "<div class=\"sitemap-content row\" id=\"sitemap\">\n",
      "<div class=\"col-xs-12\">\n",
      "<div class=\"sitemap-columns\">\n",
      "<div class=\"sitemap-section\">\n",
      "<div class=\"panel-heading\">\n",
      "<a class=\"sitemap-section-heading\" href=\" http://www.nws.noaa.gov/climate/\">PAST WEATHER</a>\n",
      "<button class=\"menu-toggle pull-right\" data-target=\"#sitemap-1\" data-toggle=\"collapse\" type=\"button\">\n",
      "<span class=\"sr-only\">Toggle menu</span>\n",
      "<span class=\"icon-bar\"></span>\n",
      "<span class=\"icon-bar\"></span>\n",
      "<span class=\"icon-bar\"></span>\n",
      "</button>\n",
      "</div>\n",
      "<div class=\"sitemap-section-body panel-body collapsable collapse\" id=\"sitemap-1\">\n",
      "<ul class=\"list-unstyled\">\n",
      "<li><a href=\" http://www.cpc.ncep.noaa.gov/products/MD_index.shtml\">Climate Monitoring </a></li>\n",
      "<li><a href=\"https://w2.weather.gov/climate/\">Past Weather </a></li>\n",
      "<li><a href=\" http://www.nws.noaa.gov/climate/\">Monthly Temps </a></li>\n",
      "<li><a href=\" http://www.nws.noaa.gov/climate/\">Records </a></li>\n",
      "<li><a href=\"https://www.esrl.noaa.gov/gmd/grad/solcalc/sunrise.html\">Astronomical Data </a></li>\n",
      "<li><a href=\"https://www.climate.gov/maps-data/dataset/past-weather-zip-code-data-table\">Certified Weather Data </a></li>\n",
      "</ul>\n",
      "</div>\n",
      "</div>\n",
      "<div class=\"sitemap-section\">\n",
      "<div class=\"panel-heading\">\n",
      "<a class=\"sitemap-section-heading\" href=\"http://alerts.weather.gov\">ACTIVE ALERTS</a>\n",
      "<button class=\"menu-toggle pull-right\" data-target=\"#sitemap-2\" data-toggle=\"collapse\" type=\"button\">\n",
      "<span class=\"sr-only\">Toggle menu</span>\n",
      "<span class=\"icon-bar\"></span>\n",
      "<span class=\"icon-bar\"></span>\n",
      "<span class=\"icon-bar\"></span>\n",
      "</button>\n",
      "</div>\n",
      "<div class=\"sitemap-section-body panel-body collapsable collapse\" id=\"sitemap-2\">\n",
      "<ul class=\"list-unstyled\">\n",
      "<li><a href=\" http://alerts.weather.gov\">Warnings By State</a></li>\n",
      "<li><a href=\" http://www.wpc.ncep.noaa.gov/ww.shtml\">Excessive Rainfall and Winter Weather Forecasts</a></li>\n",
      "<li><a href=\"http://water.weather.gov/ahps/?current_color=flood&amp;current_type=all&amp;fcst_type=obs&amp;conus_map=d_map\">River Flooding </a></li>\n",
      "<li><a href=\" http://www.weather.gov\">Latest Warnings</a></li>\n",
      "<li><a href=\" http://www.spc.noaa.gov/products/outlook/\">Thunderstorm/Tornado Outlook </a></li>\n",
      "<li><a href=\" http://www.nhc.noaa.gov/\">Hurricanes </a></li>\n",
      "<li><a href=\" http://www.spc.noaa.gov/products/fire_wx/\">Fire Weather Outlooks </a></li>\n",
      "<li><a href=\" http://www.cpc.ncep.noaa.gov/products/stratosphere/uv_index/uv_alert.shtml\">UV Alerts </a></li>\n",
      "<li><a href=\" http://www.drought.gov/\">Drought </a></li>\n",
      "<li><a href=\"http://www.swpc.noaa.gov/products/alerts-watches-and-warnings\">Space Weather </a></li>\n",
      "<li><a href=\" http://www.nws.noaa.gov/nwr/\">NOAA Weather Radio </a></li>\n",
      "<li><a href=\" http://alerts.weather.gov/\">NWS CAP Feeds </a></li>\n",
      "</ul>\n",
      "</div>\n",
      "</div>\n",
      "<div class=\"sitemap-section\">\n",
      "<div class=\"panel-heading\">\n",
      "<a class=\"sitemap-section-heading\" href=\"http://www.weather.gov/current\">CURRENT CONDITIONS</a>\n",
      "<button class=\"menu-toggle pull-right\" data-target=\"#sitemap-3\" data-toggle=\"collapse\" type=\"button\">\n",
      "<span class=\"sr-only\">Toggle menu</span>\n",
      "<span class=\"icon-bar\"></span>\n",
      "<span class=\"icon-bar\"></span>\n",
      "<span class=\"icon-bar\"></span>\n",
      "</button>\n",
      "</div>\n",
      "<div class=\"sitemap-section-body panel-body collapsable collapse\" id=\"sitemap-3\">\n",
      "<ul class=\"list-unstyled\">\n",
      "<li><a href=\" https://radar.weather.gov\">Radar </a></li>\n",
      "<li><a href=\"http://www.cpc.ncep.noaa.gov/products/monitoring_and_data/\">Climate Monitoring </a></li>\n",
      "<li><a href=\" http://water.weather.gov/ahps/\">River Levels </a></li>\n",
      "<li><a href=\" http://water.weather.gov/precip/\">Observed Precipitation </a></li>\n",
      "<li><a href=\"https://www.wpc.ncep.noaa.gov/sfc/sfcobs/sfcobs.shtml\">Surface Weather </a></li>\n",
      "<li><a href=\"http://www.spc.noaa.gov/obswx/maps/\">Upper Air </a></li>\n",
      "<li><a href=\" http://www.ndbc.noaa.gov/\">Marine and Buoy Reports </a></li>\n",
      "<li><a href=\"http://www.nohrsc.noaa.gov/interactive/html/map.html\">Snow Cover </a></li>\n",
      "<li><a href=\" http://www.weather.gov/satellite\">Satellite </a></li>\n",
      "<li><a href=\" http://www.swpc.noaa.gov/\">Space Weather </a></li>\n",
      "<li><a href=\"http://www.weather.gov/pr\">International Observations</a></li>\n",
      "</ul>\n",
      "</div>\n",
      "</div>\n",
      "<div class=\"sitemap-section\">\n",
      "<div class=\"panel-heading\">\n",
      "<a class=\"sitemap-section-heading\" href=\"http://weather.gov/forecastmaps\">FORECAST</a>\n",
      "<button class=\"menu-toggle pull-right\" data-target=\"#sitemap-4\" data-toggle=\"collapse\" type=\"button\">\n",
      "<span class=\"sr-only\">Toggle menu</span>\n",
      "<span class=\"icon-bar\"></span>\n",
      "<span class=\"icon-bar\"></span>\n",
      "<span class=\"icon-bar\"></span>\n",
      "</button>\n",
      "</div>\n",
      "<div class=\"sitemap-section-body panel-body collapsable collapse\" id=\"sitemap-4\">\n",
      "<ul class=\"list-unstyled\">\n",
      "<li><a href=\" http://www.weather.gov/\">Local Forecast </a></li>\n",
      "<li><a href=\"http://www.weather.gov/pr\">International Forecasts</a></li>\n",
      "<li><a href=\" http://www.spc.noaa.gov/\">Severe Weather </a></li>\n",
      "<li><a href=\" http://www.wpc.ncep.noaa.gov/\">Current Outlook Maps </a></li>\n",
      "<li><a href=\"http://www.cpc.ncep.noaa.gov/products/Drought\">Drought </a></li>\n",
      "<li><a href=\"http://www.weather.gov/fire\">Fire Weather </a></li>\n",
      "<li><a href=\" http://www.wpc.ncep.noaa.gov/\">Fronts/Precipitation Maps </a></li>\n",
      "<li><a href=\" http://www.nws.noaa.gov/forecasts/graphical/\">Current Graphical Forecast Maps </a></li>\n",
      "<li><a href=\"http://water.weather.gov/ahps/forecasts.php\">Rivers </a></li>\n",
      "<li><a href=\"https://www.weather.gov/marine/\">Marine </a></li>\n",
      "<li><a href=\"https://ocean.weather.gov/marine_areas.php\">Offshore and High Seas</a></li>\n",
      "<li><a href=\" http://www.nhc.noaa.gov/\">Hurricanes </a></li>\n",
      "<li><a href=\" http://aviationweather.gov\">Aviation Weather </a></li>\n",
      "<li><a href=\"http://www.cpc.ncep.noaa.gov/products/OUTLOOKS_index.shtml\">Climatic Outlook </a></li>\n",
      "</ul>\n",
      "</div>\n",
      "</div>\n",
      "<div class=\"sitemap-section\">\n",
      "<div class=\"panel-heading\">\n",
      "<a class=\"sitemap-section-heading\" href=\"http://www.weather.gov/informationcenter\">INFORMATION CENTER</a>\n",
      "<button class=\"menu-toggle pull-right\" data-target=\"#sitemap-5\" data-toggle=\"collapse\" type=\"button\">\n",
      "<span class=\"sr-only\">Toggle menu</span>\n",
      "<span class=\"icon-bar\"></span>\n",
      "<span class=\"icon-bar\"></span>\n",
      "<span class=\"icon-bar\"></span>\n",
      "</button>\n",
      "</div>\n",
      "<div class=\"sitemap-section-body panel-body collapsable collapse\" id=\"sitemap-5\">\n",
      "<ul class=\"list-unstyled\">\n",
      "<li><a href=\" http://www.spaceweather.gov\">Space Weather </a></li>\n",
      "<li><a href=\"http://www.weather.gov/briefing/\">Daily Briefing </a></li>\n",
      "<li><a href=\" http://www.nws.noaa.gov/om/marine/home.htm\">Marine </a></li>\n",
      "<li><a href=\"http://www.nws.noaa.gov/climate\">Climate </a></li>\n",
      "<li><a href=\"http://www.weather.gov/fire\">Fire Weather </a></li>\n",
      "<li><a href=\" http://www.aviationweather.gov/\">Aviation </a></li>\n",
      "<li><a href=\"http://mag.ncep.noaa.gov/\">Forecast Models </a></li>\n",
      "<li><a href=\"http://water.weather.gov/ahps/\">Water </a></li>\n",
      "<li><a href=\"https://www.weather.gov/gis/\">GIS</a></li>\n",
      "<li><a href=\" http://www.nws.noaa.gov/om/coop/\">Cooperative Observers </a></li>\n",
      "<li><a href=\"https://www.weather.gov/skywarn/\">Storm Spotters </a></li>\n",
      "<li><a href=\"http://www.tsunami.gov\">Tsunami Warning System</a></li>\n",
      "<li><a href=\"http://water.noaa.gov/\">National Water Center</a></li>\n",
      "<li><a href=\"http://www.weather.gov/pr\">International Weather</a></li>\n",
      "</ul>\n",
      "</div>\n",
      "</div>\n",
      "<div class=\"sitemap-section\">\n",
      "<div class=\"panel-heading\">\n",
      "<a class=\"sitemap-section-heading\" href=\"http://weather.gov/safety\">WEATHER SAFETY</a>\n",
      "<button class=\"menu-toggle pull-right\" data-target=\"#sitemap-6\" data-toggle=\"collapse\" type=\"button\">\n",
      "<span class=\"sr-only\">Toggle menu</span>\n",
      "<span class=\"icon-bar\"></span>\n",
      "<span class=\"icon-bar\"></span>\n",
      "<span class=\"icon-bar\"></span>\n",
      "</button>\n",
      "</div>\n",
      "<div class=\"sitemap-section-body panel-body collapsable collapse\" id=\"sitemap-6\">\n",
      "<ul class=\"list-unstyled\">\n",
      "<li><a href=\"http://www.weather.gov/nwr/\">NOAA Weather Radio</a></li>\n",
      "<li><a href=\"http://www.weather.gov/stormready/\">StormReady</a></li>\n",
      "<li><a href=\"http://www.nws.noaa.gov/om/heat/index.shtml\">Heat </a></li>\n",
      "<li><a href=\"https://www.weather.gov/safety/lightning\">Lightning </a></li>\n",
      "<li><a href=\" http://www.nhc.noaa.gov/prepare/\">Hurricanes </a></li>\n",
      "<li><a href=\"http://www.nws.noaa.gov/om/thunderstorm/\">Thunderstorms </a></li>\n",
      "<li><a href=\"https://www.weather.gov/safety/tornado\">Tornadoes </a></li>\n",
      "<li><a href=\"https://www.weather.gov/safety/ripcurrent\">Rip Currents </a></li>\n",
      "<li><a href=\"https://www.weather.gov/safety/flood\">Floods </a></li>\n",
      "<li><a href=\"https://www.weather.gov/safety/tsunami\">Tsunamis</a></li>\n",
      "<li><a href=\"https://www.weather.gov/tsunamiready/\">TsunamiReady</a></li>\n",
      "<li><a href=\" http://www.weather.gov/om/winter/index.shtml\">Winter Weather </a></li>\n",
      "<li><a href=\"http://www.nws.noaa.gov/om/heat/uv.shtml\">Ultra Violet Radiation </a></li>\n",
      "<li><a href=\" http://www.weather.gov/airquality/\">Air Quality </a></li>\n",
      "<li><a href=\" http://www.weather.gov/om/hazstats.shtml\">Damage/Fatality/Injury Statistics </a></li>\n",
      "<li><a href=\" http://www.redcross.org/\">Red Cross </a></li>\n",
      "<li><a href=\" http://www.fema.gov/\">Federal Emergency Management Agency (FEMA) </a></li>\n",
      "<li><a href=\" http://www.weather.gov/om/brochures.shtml\">Brochures </a></li>\n",
      "<li><a href=\"http://www.nws.noaa.gov/os/marine/safeboating/\">Safe Boating</a></li>\n",
      "</ul>\n",
      "</div>\n",
      "</div>\n",
      "<div class=\"sitemap-section\">\n",
      "<div class=\"panel-heading\">\n",
      "<a class=\"sitemap-section-heading\" href=\"http://weather.gov/news\">NEWS</a>\n",
      "<button class=\"menu-toggle pull-right\" data-target=\"#sitemap-7\" data-toggle=\"collapse\" type=\"button\">\n",
      "<span class=\"sr-only\">Toggle menu</span>\n",
      "<span class=\"icon-bar\"></span>\n",
      "<span class=\"icon-bar\"></span>\n",
      "<span class=\"icon-bar\"></span>\n",
      "</button>\n",
      "</div>\n",
      "<div class=\"sitemap-section-body panel-body collapsable collapse\" id=\"sitemap-7\">\n",
      "<ul class=\"list-unstyled\">\n",
      "<li><a href=\" http://weather.gov/news\">Newsroom</a></li>\n",
      "<li><a href=\" http://weather.gov/socialmedia\">Social Media </a></li>\n",
      "<li><a href=\"http://www.nws.noaa.gov/com/weatherreadynation/calendar.html\">Events</a></li>\n",
      "<li><a href=\" http://www.weather.gov/om/brochures.shtml\">Pubs/Brochures/Booklets </a></li>\n",
      "</ul>\n",
      "</div>\n",
      "</div>\n",
      "<div class=\"sitemap-section\">\n",
      "<div class=\"panel-heading\">\n",
      "<a class=\"sitemap-section-heading\" href=\"http://weather.gov/owlie\">EDUCATION</a>\n",
      "<button class=\"menu-toggle pull-right\" data-target=\"#sitemap-8\" data-toggle=\"collapse\" type=\"button\">\n",
      "<span class=\"sr-only\">Toggle menu</span>\n",
      "<span class=\"icon-bar\"></span>\n",
      "<span class=\"icon-bar\"></span>\n",
      "<span class=\"icon-bar\"></span>\n",
      "</button>\n",
      "</div>\n",
      "<div class=\"sitemap-section-body panel-body collapsable collapse\" id=\"sitemap-8\">\n",
      "<ul class=\"list-unstyled\">\n",
      "<li><a href=\"http://weather.gov/education\">NWS Education Home</a></li>\n",
      "<li><a href=\"http://www.nws.noaa.gov/com/weatherreadynation/force.html\">Be A Force of Nature</a></li>\n",
      "<li><a href=\" http://www.education.noaa.gov/Weather_and_Atmosphere/\">NOAA Education Resources </a></li>\n",
      "<li><a href=\" http://www.weather.gov/glossary/\">Glossary </a></li>\n",
      "<li><a href=\"https://www.weather.gov/jetstream/\">JetStream </a></li>\n",
      "<li><a href=\" http://www.weather.gov/training/\">NWS Training Portal </a></li>\n",
      "<li><a href=\"https://library.noaa.gov/\">NOAA Library </a></li>\n",
      "<li><a href=\"http://weather.gov/owlie\">For Students, Parents and Teachers</a></li>\n",
      "<li><a href=\"http://www.weather.gov/owlie/publication_brochures\">Brochures </a></li>\n",
      "</ul>\n",
      "</div>\n",
      "</div>\n",
      "<div class=\"sitemap-section\">\n",
      "<div class=\"panel-heading\">\n",
      "<a class=\"sitemap-section-heading\" href=\"http://weather.gov/about\">ABOUT</a>\n",
      "<button class=\"menu-toggle pull-right\" data-target=\"#sitemap-9\" data-toggle=\"collapse\" type=\"button\">\n",
      "<span class=\"sr-only\">Toggle menu</span>\n",
      "<span class=\"icon-bar\"></span>\n",
      "<span class=\"icon-bar\"></span>\n",
      "<span class=\"icon-bar\"></span>\n",
      "</button>\n",
      "</div>\n",
      "<div class=\"sitemap-section-body panel-body collapsable collapse\" id=\"sitemap-9\">\n",
      "<ul class=\"list-unstyled\">\n",
      "<li><a href=\"http://weather.gov/organization\">Organization </a></li>\n",
      "<li><a href=\"https://www.weather.gov/media/wrn/NWS_Weather-Ready-Nation_Strategic_Plan_2019-2022.pdf\">Strategic Plan </a></li>\n",
      "<li><a href=\"https://sites.google.com/a/noaa.gov/nws-best-practices/\">For NWS Employees </a></li>\n",
      "<li><a href=\"https://www.weather.gov/international/\">International </a></li>\n",
      "<li><a href=\"http://www.ncep.noaa.gov/\">National Centers </a></li>\n",
      "<li><a href=\" http://www.weather.gov/tg/\">Products and Services </a></li>\n",
      "<li><a href=\"http://www.weather.gov/careers/\">Careers</a></li>\n",
      "<li><a href=\" http://www.weather.gov/glossary/\">Glossary </a></li>\n",
      "<li><a href=\"http://weather.gov/contact\">Contact Us </a></li>\n",
      "</ul>\n",
      "</div>\n",
      "</div>\n",
      "</div>\n",
      "</div>\n",
      "</div>\n",
      "<!-- legal footer area -->\n",
      "<div class=\"footer-legal\">\n",
      "<div class=\"col-xs-12 col-sm-2 col-md-2\" id=\"footerLogo\">\n",
      "<a href=\"http://www.usa.gov\"><img alt=\"usa.gov\" height=\"30\" src=\"/css/images/usa_gov.png\" width=\"110\"/></a>\n",
      "</div>\n",
      "<div class=\"col-xs-12 col-sm-4 col-md-4\">\n",
      "<ul class=\"list-unstyled footer-legal-content\">\n",
      "<li><a href=\"http://www.commerce.gov\">US Dept of Commerce</a></li>\n",
      "<li><a href=\"http://www.noaa.gov\">National Oceanic and Atmospheric Administration</a></li>\n",
      "<li><a href=\"http://www.weather.gov\">National Weather Service</a></li>\n",
      "<li><a href=\"https://www.weather.gov/ind\">Indianapolis, IN</a></li><li><br><a href=\"mailto:nws.indianapolis@noaa.gov\">Comments? Questions? Please Contact Us.</a></br></li> </ul>\n",
      "</div>\n",
      "<div class=\"col-xs-12 col-sm-3 col-md-3\">\n",
      "<ul class=\"list-unstyled\">\n",
      "<li><a href=\"https://www.weather.gov/disclaimer\">Disclaimer</a></li>\n",
      "<li><a href=\"http://www.cio.noaa.gov/services_programs/info_quality.html\">Information Quality</a></li>\n",
      "<li><a href=\"https://www.weather.gov/help\">Help</a></li>\n",
      "<li><a href=\"http://www.weather.gov/glossary\">Glossary</a></li>\n",
      "</ul>\n",
      "</div>\n",
      "<div class=\"col-xs-12 col-sm-3 col-md-3\">\n",
      "<ul class=\"list-unstyled\">\n",
      "<li><a href=\"https://www.weather.gov/privacy\">Privacy Policy</a></li>\n",
      "<li><a href=\"https://www.noaa.gov/foia-freedom-of-information-act\">Freedom of Information Act (FOIA)</a></li>\n",
      "<li><a href=\"https://www.weather.gov/about\">About Us</a></li>\n",
      "<li><a href=\"https://www.weather.gov/careers\">Career Opportunities</a></li>\n",
      "</ul>\n",
      "</div>\n",
      "</div>\n",
      "</footer>\n",
      "</main>\n",
      "</body>\n",
      "</html>\n",
      "\n"
     ]
    }
   ],
   "source": [
    "soup=BeautifulSoup(page.content,'html.parser')\n",
    "print(soup)"
   ]
  },
  {
   "cell_type": "code",
   "execution_count": 15,
   "id": "bright-denver",
   "metadata": {},
   "outputs": [
    {
     "name": "stdout",
     "output_type": "stream",
     "text": [
      "[<a class=\"pull-left\" href=\"http://www.noaa.gov\" id=\"header-noaa\"><img alt=\"National Oceanic and Atmospheric Administration\" src=\"/css/images/header_noaa.png\"/></a>, <a class=\"pull-left\" href=\"http://www.weather.gov\" id=\"header-nws\"><img alt=\"National Weather Service\" src=\"/css/images/header_nws.png\"/></a>, <a class=\"pull-right\" href=\"http://www.commerce.gov\" id=\"header-doc\"><img alt=\"United States Department of Commerce\" src=\"/css/images/header_doc.png\"/></a>, <a href=\"http://www.weather.gov\">HOME</a>, <a class=\"dropdown-toggle\" data-toggle=\"dropdown\" href=\"http://www.weather.gov/forecastmaps\">FORECAST <span class=\"caret\"></span></a>, <a href=\"http://www.weather.gov\">Local</a>, <a href=\"http://digital.weather.gov\">Graphical</a>, <a href=\"http://www.aviationweather.gov/\">Aviation</a>, <a href=\"http://www.weather.gov/marine\">Marine</a>, <a href=\"http://water.weather.gov/ahps/\">Rivers and Lakes</a>, <a href=\"http://www.nhc.noaa.gov/\">Hurricanes</a>, <a href=\"http://www.spc.noaa.gov/\">Severe Weather</a>, <a href=\"http://www.weather.gov/fire/\">Fire Weather</a>, <a href=\"https://www.esrl.noaa.gov/gmd/grad/solcalc/sunrise.html\">Sun/Moon</a>, <a href=\"http://www.cpc.ncep.noaa.gov/\">Long Range Forecasts</a>, <a href=\"http://www.cpc.ncep.noaa.gov\">Climate Prediction</a>, <a href=\"https://www.swpc.noaa.gov/\">Space Weather</a>, <a class=\"dropdown-toggle\" data-toggle=\"dropdown\" href=\"https://w2.weather.gov/climate\">PAST WEATHER <span class=\"caret\"></span></a>, <a href=\"https://w2.weather.gov/climate/\">Past Weather</a>, <a href=\"https://w2.weather.gov/climate/\">Heating/Cooling Days</a>, <a href=\"https://w2.weather.gov/climate/\">Monthly Temperatures</a>, <a href=\"https://w2.weather.gov/climate/\">Records</a>, <a href=\"http://aa.usno.navy.mil/\">Astronomical Data</a>, <a class=\"dropdown-toggle\" data-toggle=\"dropdown\" href=\"http://www.weather.gov/safety\">SAFETY <span class=\"caret\"></span></a>, <a href=\"https://www.weather.gov/safety/tsunami\">Tsunamis</a>, <a href=\"https://www.weather.gov/safety/flood\">Floods</a>, <a href=\"https://www.weather.gov/safety/beachhazards\">Beach Hazards</a>, <a href=\"https://www.weather.gov/safety/wildfire\">Wildfire</a>, <a href=\"https://www.weather.gov/safety/cold\">Cold</a>, <a href=\"https://www.weather.gov/safety/tornado\">Tornadoes</a>, <a href=\"https://www.weather.gov/safety/airquality\">Air Quality</a>, <a href=\"https://www.weather.gov/safety/fog\">Fog</a>, <a href=\"https://www.weather.gov/safety/heat\">Heat</a>, <a href=\"https://www.weather.gov/safety/hurricane\">Hurricanes</a>, <a href=\"https://www.weather.gov/safety/lightning\">Lightning</a>, <a href=\"https://www.weather.gov/safety/safeboating\">Safe Boating</a>, <a href=\"https://www.weather.gov/safety/ripcurrent\">Rip Currents</a>, <a href=\"https://www.weather.gov/safety/thunderstorm\">Thunderstorms</a>, <a href=\"https://www.weather.gov/safety/space\">Space Weather</a>, <a href=\"https://www.weather.gov/safety/heat-uv\">Sun (Ultraviolet Radiation)</a>, <a href=\"http://www.weather.gov/safetycampaign\">Safety Campaigns</a>, <a href=\"https://www.weather.gov/safety/wind\">Wind</a>, <a href=\"https://www.weather.gov/safety/drought\">Drought</a>, <a href=\"https://www.weather.gov/safety/winter\">Winter Weather</a>, <a class=\"dropdown-toggle\" data-toggle=\"dropdown\" href=\"http://www.weather.gov/informationcenter\">INFORMATION <span class=\"caret\"></span></a>, <a href=\"http://www.weather.gov/Owlie's\">Owlie's Kids Page</a>, <a href=\"http://www.weather.gov/wrn/wea\">Wireless Emergency Alerts</a>, <a href=\"https://www.weather.gov/owlie/publication_brochures\">Brochures</a>, <a href=\"http://www.weather.gov/wrn/\">Weather-Ready Nation</a>, <a href=\"https://www.weather.gov/coop/\">Cooperative Observers</a>, <a href=\"http://www.weather.gov/briefing/\">Daily Briefing</a>, <a href=\"http://www.nws.noaa.gov/om/hazstats.shtml\">Damage/Fatality/Injury Statistics</a>, <a href=\"http://mag.ncep.noaa.gov/\">Forecast Models</a>, <a href=\"https://www.weather.gov/gis\">GIS Data Portal</a>, <a href=\"https://www.weather.gov/nwr/\">NOAA Weather Radio</a>, <a href=\"http://weather.gov/publications\">Publications</a>, <a href=\"http://www.weather.gov/SKYWARN\">SKYWARN Storm Spotters</a>, <a href=\"http://www.weather.gov/StormReady\">StormReady</a>, <a href=\"https://www.weather.gov/TsunamiReady/\">TsunamiReady</a>, <a href=\"https://www.weather.gov/notification/\">Service Change Notices</a>, <a class=\"dropdown-toggle\" data-toggle=\"dropdown\" href=\"http://www.weather.gov/education\">EDUCATION <span class=\"caret\"></span></a>, <a href=\"https://www.weather.gov/wrn/force\">Be A Force of Nature</a>, <a href=\"http://www.weather.gov/owlie\">NWS Education Home</a>, <a class=\"dropdown-toggle\" data-toggle=\"dropdown\" href=\"http://www.weather.gov/news/\">NEWS <span class=\"caret\"></span></a>, <a href=\"http://www.weather.gov/news\">NWS News</a>, <a href=\"https://www.weather.gov/wrn/calendar\">Events</a>, <a href=\"http://www.weather.gov/socialmedia\">Social Media</a>, <a href=\"https://www.weather.gov/owlie/publication_brochures\">Pubs/Brochures/Booklets </a>, <a href=\"http://www.noaa.gov/NOAA-Communications\">NWS Media Contacts</a>, <a class=\"dropdown-toggle\" data-toggle=\"dropdown\" href=\"http://www.weather.gov/search\">SEARCH <span class=\"caret\"></span></a>, <a class=\"dropdown-toggle\" data-toggle=\"dropdown\" href=\"http://www.weather.gov/about\">ABOUT <span class=\"caret\"></span></a>, <a href=\"http://www.weather.gov/about\">About NWS</a>, <a href=\"http://www.weather.gov/organization\">Organization</a>, <a href=\"https://www.weather.gov/media/wrn/NWS_Weather-Ready-Nation_Strategic_Plan_2019-2022.pdf\">Strategic Plan</a>, <a href=\"https://sites.google.com/a/noaa.gov/nws-insider/\">For NWS Employees</a>, <a href=\"http://www.weather.gov/international/\">International</a>, <a href=\"http://www.weather.gov/organization\">National Centers</a>, <a href=\"http://www.weather.gov/careers/\">Careers</a>, <a href=\"http://www.weather.gov/contact\">Contact Us</a>, <a href=\"https://w1.weather.gov/glossary\">Glossary</a>, <a href=\"javascript:void(window.open('http://weather.gov/ForecastSearchHelp.html','locsearchhelp','status=0,toolbar=0,location=0,menubar=0,directories=0,resizable=1,scrollbars=1,height=500,width=530').focus());\">View Location Examples</a>, <a href=\"http://www.wpc.ncep.noaa.gov/discussions/hpcdiscussions.php?disc=pmdspd\" target=\"_blank\">Read More &gt;</a>, <a class=\"anchor-hazards\" href=\"showsigwx.php?warnzone=INZ047&amp;warncounty=INC097&amp;firewxzone=INZ047&amp;local_place1=Indianapolis IN&amp;product1=Hazardous+Weather+Outlook&amp;lat=39.7669&amp;lon=-86.1501\" id=\"hazard-INZ047-Hazardous+Weather+Outlook-0\">Hazardous Weather Outlook </a>, <a href=\"//forecast.weather.gov/MapClick.php?lat=39.76691000000005&amp;lon=-86.15011999999996&amp;lg=sp\">En Español</a>, <a class=\"addthis_button_compact\" href=\"//www.addthis.com/bookmark.php?v=250&amp;pubid=ra-5127a6364d551d04\">Share</a>, <a class=\"addthis_button_preferred_1\"></a>, <a class=\"addthis_button_preferred_2\"></a>, <a class=\"addthis_button_preferred_3\"></a>, <a class=\"addthis_button_preferred_4\"></a>, <a class=\"addthis_button_preferred_5\"></a>, <a href=\"https://www.weather.gov/ind\" id=\"localWFO\" title=\"Indianapolis, IN\"><span class=\"hideText\">Local</span> Forecast Office</a>, <a href=\"obslocal.php?warnzone=INZ047&amp;local_place=Indianapolis IN&amp;zoneid=EDT&amp;offset=14400\" id=\"moreWx\">More Local Wx</a>, <a href=\"//www.weather.gov/data/obhistory/KIND.html\" id=\"3dayHist\">3 Day History</a>, <a href=\"//mobile.weather.gov/index.php?lat=39.7669&amp;lon=-86.1501&amp;unit=0&amp;lg=english\" id=\"mobileWxLink\">Mobile Weather</a>, <a href=\"MapClick.php?lat=39.7669&amp;lon=-86.1501&amp;unit=0&amp;lg=english&amp;FcstType=graphical\" id=\"wxGraph\">Hourly <span class=\"hideText\">Weather </span>Forecast</a>, <a href=\"MapClick.php?zoneid=INZ047\">Zone Area Forecast for Marion County, IN</a>, <a href=\"//forecast.weather.gov/product.php?site=IND&amp;issuedby=IND&amp;product=AFD&amp;format=CI&amp;version=1&amp;glossary=1\">Forecast Discussion</a>, <a href=\"MapClick.php?lat=39.7669&amp;lon=-86.1501&amp;unit=0&amp;lg=english&amp;FcstType=text&amp;TextType=2\">Printable Forecast</a>, <a href=\"MapClick.php?lat=39.7669&amp;lon=-86.1501&amp;unit=0&amp;lg=english&amp;FcstType=text&amp;TextType=1\">Text Only Forecast</a>, <a href=\"MapClick.php?lat=39.7669&amp;lon=-86.1501&amp;unit=0&amp;lg=english&amp;FcstType=graphical\">Hourly Weather Forecast</a>, <a href=\"MapClick.php?lat=39.7669&amp;lon=-86.1501&amp;unit=0&amp;lg=english&amp;FcstType=digital\">Tabular Forecast</a>, <a href=\"//weather.gov/aq/probe_aq_data.php?latitude=39.7669&amp;longitude=-86.1501\">Air Quality Forecasts</a>, <a href=\"MapClick.php?lat=39.7669&amp;lon=-86.1501&amp;FcstType=text&amp;unit=1&amp;lg=en\">International System of Units</a>, <a href=\"http://www.weather.gov/ind/localcli\" target=\"_self\">Local Climatology</a>, <a href=\"http://www.weather.gov/ind/localsevereweathertabs\" target=\"_self\">Severe Weather</a>, <a href=\"http://water.weather.gov/ahps2/index.php?wfo=ind\" target=\"_self\">Hydrology (AHPS)</a>, <a href=\"http://www.wpc.ncep.noaa.gov/qpf/qpf2.shtml\" target=\"_self\">Precipitation</a>, <a href=\"http://www.weather.gov/ind/aviation\" target=\"_self\">Aviation</a>, <a href=\"http://www.weather.gov/ind/winter\" target=\"_self\">Winter Weather</a>, <a href=\"http://www.weather.gov/ind/nwr\" target=\"_self\">NOAA Weather Radio</a>, <a href=\"http://www.weather.gov/ind/wnew\" target=\"_self\">What's New at IND?</a>, <a href=\"http://www.weather.gov/ind/INDWxbrief\" target=\"_self\">Central Indiana Overview</a>, <a href=\"https://www.weather.gov/crh/stormreports?sid=ind\" target=\"_self\">Submit a Severe Storm or a Winter Storm Report</a>, <a href=\"http://www.weather.gov/ind/aboutus\" target=\"_self\">Our Office</a>, <a href=\"http://www.weather.gov/disclaimer#esri\">Disclaimer</a>, <a href=\"//www.weather.gov/glossary/index.php?word=Last+update\" target=\"_blank\">Last Update</a>, <a href=\"//www.weather.gov/glossary/index.php?word=forecast+valid+for\" target=\"_blank\">Forecast Valid</a>, <a href=\"https://forecast.weather.gov/product.php?site=IND&amp;issuedby=IND&amp;product=AFD&amp;format=CI&amp;version=1&amp;glossary=1\">Forecast Discussion</a>, <a href=\"MapClick.php?lat=39.7669&amp;lon=-86.1501&amp;unit=0&amp;lg=english&amp;FcstType=kml\"><img alt=\"Get as KML\" height=\"17\" src=\"/images/wtf/kml_badge.png\" width=\"45\"/></a>, <a href=\"MapClick.php?lat=39.7669&amp;lon=-86.1501&amp;unit=0&amp;lg=english&amp;FcstType=dwml\"><img alt=\"Get as XML\" height=\"17\" src=\"/images/wtf/xml_badge.png\" width=\"45\"/></a>, <a href=\"https://radar.weather.gov/?settings=v1_eyJhZ2VuZGEiOnsiaWQiOiJsb2NhbCIsImNlbnRlciI6Wy04Ni4yOCwzOS43MDddLCJ6b29tIjo3LCJmaWx0ZXIiOiJXU1ItODhEIiwibGF5ZXIiOiJicmVmX3JhdyIsInN0YXRpb24iOiJLSU5EIiwidHJhbnNwYXJlbnQiOnRydWUsImFsZXJ0c092ZXJsYXkiOnRydWUsInN0YXRpb25JY29uc092ZXJsYXkiOnRydWV9LCJiYXNlIjoic3RhbmRhcmQiLCJjb3VudHkiOmZhbHNlLCJjd2EiOmZhbHNlLCJzdGF0ZSI6ZmFsc2UsIm1lbnUiOnRydWUsInNob3J0RnVzZWRPbmx5Ijp0cnVlfQ%3D%3D#/\"><img alt=\"Link to Local Radar Data\" class=\"radar-thumb\" src=\"//radar.weather.gov/ridge/lite/KIND_0.gif\" title=\"Link to Local Radar Data\"/></a>, <a href=\"https://www.star.nesdis.noaa.gov/GOES/GOES16_CONUS.php\"><img alt=\"Link to Satellite Data\" class=\"satellite-thumb\" src=\"https://cdn.star.nesdis.noaa.gov/GOES16/ABI/CONUS/GEOCOLOR/625x375.jpg\" title=\"Link to Satellite Data\"/></a>, <a href=\"MapClick.php?lat=39.7669&amp;lon=-86.1501&amp;unit=0&amp;lg=english&amp;FcstType=graphical\"><img class=\"img-responsive\" src=\"newimages/medium/hourlyweather.png\"/></a>, <a href=\"//graphical.weather.gov/sectors/centmissvly.php?element=MaxT\"><img alt=\"National Digital Forecast Database Maximum Temperature Forecast\" border=\"0\" height=\"150\" src=\"//graphical.weather.gov/images/thumbnail/latest_MaxMinT_centmissvly_thumbnail.png\" title=\"National Digital Forecast Database Maximum Temperature Forecast\" width=\"147\"/></a>, <a href=\"//graphical.weather.gov/sectors/centmissvly.php?element=MaxT\">High Temperature</a>, <a href=\"//graphical.weather.gov/sectors/centmissvly.php?element=Wx\"><img alt=\"National Digital Forecast Database Weather Element Forecast\" border=\"0\" height=\"150\" src=\"//graphical.weather.gov/images/thumbnail/latest_Wx_centmissvly_thumbnail.png\" title=\"National Digital Forecast Database Weather Element Forecast\" width=\"147\"/></a>, <a href=\"//graphical.weather.gov/sectors/centmissvly.php?element=Wx\">Chance of Precipitation</a>, <a class=\"sitemap-section-heading\" href=\" http://www.nws.noaa.gov/climate/\">PAST WEATHER</a>, <a href=\" http://www.cpc.ncep.noaa.gov/products/MD_index.shtml\">Climate Monitoring </a>, <a href=\"https://w2.weather.gov/climate/\">Past Weather </a>, <a href=\" http://www.nws.noaa.gov/climate/\">Monthly Temps </a>, <a href=\" http://www.nws.noaa.gov/climate/\">Records </a>, <a href=\"https://www.esrl.noaa.gov/gmd/grad/solcalc/sunrise.html\">Astronomical Data </a>, <a href=\"https://www.climate.gov/maps-data/dataset/past-weather-zip-code-data-table\">Certified Weather Data </a>, <a class=\"sitemap-section-heading\" href=\"http://alerts.weather.gov\">ACTIVE ALERTS</a>, <a href=\" http://alerts.weather.gov\">Warnings By State</a>, <a href=\" http://www.wpc.ncep.noaa.gov/ww.shtml\">Excessive Rainfall and Winter Weather Forecasts</a>, <a href=\"http://water.weather.gov/ahps/?current_color=flood&amp;current_type=all&amp;fcst_type=obs&amp;conus_map=d_map\">River Flooding </a>, <a href=\" http://www.weather.gov\">Latest Warnings</a>, <a href=\" http://www.spc.noaa.gov/products/outlook/\">Thunderstorm/Tornado Outlook </a>, <a href=\" http://www.nhc.noaa.gov/\">Hurricanes </a>, <a href=\" http://www.spc.noaa.gov/products/fire_wx/\">Fire Weather Outlooks </a>, <a href=\" http://www.cpc.ncep.noaa.gov/products/stratosphere/uv_index/uv_alert.shtml\">UV Alerts </a>, <a href=\" http://www.drought.gov/\">Drought </a>, <a href=\"http://www.swpc.noaa.gov/products/alerts-watches-and-warnings\">Space Weather </a>, <a href=\" http://www.nws.noaa.gov/nwr/\">NOAA Weather Radio </a>, <a href=\" http://alerts.weather.gov/\">NWS CAP Feeds </a>, <a class=\"sitemap-section-heading\" href=\"http://www.weather.gov/current\">CURRENT CONDITIONS</a>, <a href=\" https://radar.weather.gov\">Radar </a>, <a href=\"http://www.cpc.ncep.noaa.gov/products/monitoring_and_data/\">Climate Monitoring </a>, <a href=\" http://water.weather.gov/ahps/\">River Levels </a>, <a href=\" http://water.weather.gov/precip/\">Observed Precipitation </a>, <a href=\"https://www.wpc.ncep.noaa.gov/sfc/sfcobs/sfcobs.shtml\">Surface Weather </a>, <a href=\"http://www.spc.noaa.gov/obswx/maps/\">Upper Air </a>, <a href=\" http://www.ndbc.noaa.gov/\">Marine and Buoy Reports </a>, <a href=\"http://www.nohrsc.noaa.gov/interactive/html/map.html\">Snow Cover </a>, <a href=\" http://www.weather.gov/satellite\">Satellite </a>, <a href=\" http://www.swpc.noaa.gov/\">Space Weather </a>, <a href=\"http://www.weather.gov/pr\">International Observations</a>, <a class=\"sitemap-section-heading\" href=\"http://weather.gov/forecastmaps\">FORECAST</a>, <a href=\" http://www.weather.gov/\">Local Forecast </a>, <a href=\"http://www.weather.gov/pr\">International Forecasts</a>, <a href=\" http://www.spc.noaa.gov/\">Severe Weather </a>, <a href=\" http://www.wpc.ncep.noaa.gov/\">Current Outlook Maps </a>, <a href=\"http://www.cpc.ncep.noaa.gov/products/Drought\">Drought </a>, <a href=\"http://www.weather.gov/fire\">Fire Weather </a>, <a href=\" http://www.wpc.ncep.noaa.gov/\">Fronts/Precipitation Maps </a>, <a href=\" http://www.nws.noaa.gov/forecasts/graphical/\">Current Graphical Forecast Maps </a>, <a href=\"http://water.weather.gov/ahps/forecasts.php\">Rivers </a>, <a href=\"https://www.weather.gov/marine/\">Marine </a>, <a href=\"https://ocean.weather.gov/marine_areas.php\">Offshore and High Seas</a>, <a href=\" http://www.nhc.noaa.gov/\">Hurricanes </a>, <a href=\" http://aviationweather.gov\">Aviation Weather </a>, <a href=\"http://www.cpc.ncep.noaa.gov/products/OUTLOOKS_index.shtml\">Climatic Outlook </a>, <a class=\"sitemap-section-heading\" href=\"http://www.weather.gov/informationcenter\">INFORMATION CENTER</a>, <a href=\" http://www.spaceweather.gov\">Space Weather </a>, <a href=\"http://www.weather.gov/briefing/\">Daily Briefing </a>, <a href=\" http://www.nws.noaa.gov/om/marine/home.htm\">Marine </a>, <a href=\"http://www.nws.noaa.gov/climate\">Climate </a>, <a href=\"http://www.weather.gov/fire\">Fire Weather </a>, <a href=\" http://www.aviationweather.gov/\">Aviation </a>, <a href=\"http://mag.ncep.noaa.gov/\">Forecast Models </a>, <a href=\"http://water.weather.gov/ahps/\">Water </a>, <a href=\"https://www.weather.gov/gis/\">GIS</a>, <a href=\" http://www.nws.noaa.gov/om/coop/\">Cooperative Observers </a>, <a href=\"https://www.weather.gov/skywarn/\">Storm Spotters </a>, <a href=\"http://www.tsunami.gov\">Tsunami Warning System</a>, <a href=\"http://water.noaa.gov/\">National Water Center</a>, <a href=\"http://www.weather.gov/pr\">International Weather</a>, <a class=\"sitemap-section-heading\" href=\"http://weather.gov/safety\">WEATHER SAFETY</a>, <a href=\"http://www.weather.gov/nwr/\">NOAA Weather Radio</a>, <a href=\"http://www.weather.gov/stormready/\">StormReady</a>, <a href=\"http://www.nws.noaa.gov/om/heat/index.shtml\">Heat </a>, <a href=\"https://www.weather.gov/safety/lightning\">Lightning </a>, <a href=\" http://www.nhc.noaa.gov/prepare/\">Hurricanes </a>, <a href=\"http://www.nws.noaa.gov/om/thunderstorm/\">Thunderstorms </a>, <a href=\"https://www.weather.gov/safety/tornado\">Tornadoes </a>, <a href=\"https://www.weather.gov/safety/ripcurrent\">Rip Currents </a>, <a href=\"https://www.weather.gov/safety/flood\">Floods </a>, <a href=\"https://www.weather.gov/safety/tsunami\">Tsunamis</a>, <a href=\"https://www.weather.gov/tsunamiready/\">TsunamiReady</a>, <a href=\" http://www.weather.gov/om/winter/index.shtml\">Winter Weather </a>, <a href=\"http://www.nws.noaa.gov/om/heat/uv.shtml\">Ultra Violet Radiation </a>, <a href=\" http://www.weather.gov/airquality/\">Air Quality </a>, <a href=\" http://www.weather.gov/om/hazstats.shtml\">Damage/Fatality/Injury Statistics </a>, <a href=\" http://www.redcross.org/\">Red Cross </a>, <a href=\" http://www.fema.gov/\">Federal Emergency Management Agency (FEMA) </a>, <a href=\" http://www.weather.gov/om/brochures.shtml\">Brochures </a>, <a href=\"http://www.nws.noaa.gov/os/marine/safeboating/\">Safe Boating</a>, <a class=\"sitemap-section-heading\" href=\"http://weather.gov/news\">NEWS</a>, <a href=\" http://weather.gov/news\">Newsroom</a>, <a href=\" http://weather.gov/socialmedia\">Social Media </a>, <a href=\"http://www.nws.noaa.gov/com/weatherreadynation/calendar.html\">Events</a>, <a href=\" http://www.weather.gov/om/brochures.shtml\">Pubs/Brochures/Booklets </a>, <a class=\"sitemap-section-heading\" href=\"http://weather.gov/owlie\">EDUCATION</a>, <a href=\"http://weather.gov/education\">NWS Education Home</a>, <a href=\"http://www.nws.noaa.gov/com/weatherreadynation/force.html\">Be A Force of Nature</a>, <a href=\" http://www.education.noaa.gov/Weather_and_Atmosphere/\">NOAA Education Resources </a>, <a href=\" http://www.weather.gov/glossary/\">Glossary </a>, <a href=\"https://www.weather.gov/jetstream/\">JetStream </a>, <a href=\" http://www.weather.gov/training/\">NWS Training Portal </a>, <a href=\"https://library.noaa.gov/\">NOAA Library </a>, <a href=\"http://weather.gov/owlie\">For Students, Parents and Teachers</a>, <a href=\"http://www.weather.gov/owlie/publication_brochures\">Brochures </a>, <a class=\"sitemap-section-heading\" href=\"http://weather.gov/about\">ABOUT</a>, <a href=\"http://weather.gov/organization\">Organization </a>, <a href=\"https://www.weather.gov/media/wrn/NWS_Weather-Ready-Nation_Strategic_Plan_2019-2022.pdf\">Strategic Plan </a>, <a href=\"https://sites.google.com/a/noaa.gov/nws-best-practices/\">For NWS Employees </a>, <a href=\"https://www.weather.gov/international/\">International </a>, <a href=\"http://www.ncep.noaa.gov/\">National Centers </a>, <a href=\" http://www.weather.gov/tg/\">Products and Services </a>, <a href=\"http://www.weather.gov/careers/\">Careers</a>, <a href=\" http://www.weather.gov/glossary/\">Glossary </a>, <a href=\"http://weather.gov/contact\">Contact Us </a>, <a href=\"http://www.usa.gov\"><img alt=\"usa.gov\" height=\"30\" src=\"/css/images/usa_gov.png\" width=\"110\"/></a>, <a href=\"http://www.commerce.gov\">US Dept of Commerce</a>, <a href=\"http://www.noaa.gov\">National Oceanic and Atmospheric Administration</a>, <a href=\"http://www.weather.gov\">National Weather Service</a>, <a href=\"https://www.weather.gov/ind\">Indianapolis, IN</a>, <a href=\"mailto:nws.indianapolis@noaa.gov\">Comments? Questions? Please Contact Us.</a>, <a href=\"https://www.weather.gov/disclaimer\">Disclaimer</a>, <a href=\"http://www.cio.noaa.gov/services_programs/info_quality.html\">Information Quality</a>, <a href=\"https://www.weather.gov/help\">Help</a>, <a href=\"http://www.weather.gov/glossary\">Glossary</a>, <a href=\"https://www.weather.gov/privacy\">Privacy Policy</a>, <a href=\"https://www.noaa.gov/foia-freedom-of-information-act\">Freedom of Information Act (FOIA)</a>, <a href=\"https://www.weather.gov/about\">About Us</a>, <a href=\"https://www.weather.gov/careers\">Career Opportunities</a>]\n"
     ]
    }
   ],
   "source": [
    "print(soup.find_all('a'))"
   ]
  },
  {
   "cell_type": "code",
   "execution_count": 53,
   "id": "municipal-observer",
   "metadata": {},
   "outputs": [],
   "source": [
    "Week = soup.find(id='seven-day-forecast-body')"
   ]
  },
  {
   "cell_type": "code",
   "execution_count": 55,
   "id": "fallen-wisconsin",
   "metadata": {},
   "outputs": [
    {
     "name": "stdout",
     "output_type": "stream",
     "text": [
      "<div class=\"panel-body\" id=\"seven-day-forecast-body\">\n",
      "<div id=\"seven-day-forecast-container\"><ul class=\"list-unstyled\" id=\"seven-day-forecast-list\"><li class=\"forecast-tombstone\">\n",
      "<div class=\"tombstone-container\">\n",
      "<p class=\"period-name\">Today<br/><br/></p>\n",
      "<p><img alt=\"Today: Cloudy, with a high near 50. West northwest wind around 18 mph, with gusts as high as 32 mph. \" class=\"forecast-icon\" src=\"newimages/medium/ovc.png\" title=\"Today: Cloudy, with a high near 50. West northwest wind around 18 mph, with gusts as high as 32 mph. \"/></p><p class=\"short-desc\">Cloudy</p><p class=\"temp temp-high\">High: 50 °F</p></div></li><li class=\"forecast-tombstone\">\n",
      "<div class=\"tombstone-container\">\n",
      "<p class=\"period-name\">Tonight<br/><br/></p>\n",
      "<p><img alt=\"Tonight: Mostly cloudy, then gradually becoming clear, with a low around 32. West northwest wind 5 to 15 mph, with gusts as high as 21 mph. \" class=\"forecast-icon\" src=\"newimages/medium/nsct.png\" title=\"Tonight: Mostly cloudy, then gradually becoming clear, with a low around 32. West northwest wind 5 to 15 mph, with gusts as high as 21 mph. \"/></p><p class=\"short-desc\">Decreasing<br/>Clouds</p><p class=\"temp temp-low\">Low: 32 °F</p></div></li><li class=\"forecast-tombstone\">\n",
      "<div class=\"tombstone-container\">\n",
      "<p class=\"period-name\">Monday<br/><br/></p>\n",
      "<p><img alt=\"Monday: Sunny, with a high near 60. Light south southwest wind increasing to 5 to 10 mph in the morning. \" class=\"forecast-icon\" src=\"newimages/medium/few.png\" title=\"Monday: Sunny, with a high near 60. Light south southwest wind increasing to 5 to 10 mph in the morning. \"/></p><p class=\"short-desc\">Sunny</p><p class=\"temp temp-high\">High: 60 °F</p></div></li><li class=\"forecast-tombstone\">\n",
      "<div class=\"tombstone-container\">\n",
      "<p class=\"period-name\">Monday<br/>Night</p>\n",
      "<p><img alt=\"Monday Night: Clear, with a low around 43. South wind around 10 mph, with gusts as high as 18 mph. \" class=\"forecast-icon\" src=\"newimages/medium/nskc.png\" title=\"Monday Night: Clear, with a low around 43. South wind around 10 mph, with gusts as high as 18 mph. \"/></p><p class=\"short-desc\">Clear</p><p class=\"temp temp-low\">Low: 43 °F</p></div></li><li class=\"forecast-tombstone\">\n",
      "<div class=\"tombstone-container\">\n",
      "<p class=\"period-name\">Tuesday<br/><br/></p>\n",
      "<p><img alt=\"Tuesday: Mostly sunny, with a high near 67. South southwest wind 10 to 17 mph, with gusts as high as 30 mph. \" class=\"forecast-icon\" src=\"newimages/medium/sct.png\" title=\"Tuesday: Mostly sunny, with a high near 67. South southwest wind 10 to 17 mph, with gusts as high as 30 mph. \"/></p><p class=\"short-desc\">Mostly Sunny</p><p class=\"temp temp-high\">High: 67 °F</p></div></li><li class=\"forecast-tombstone\">\n",
      "<div class=\"tombstone-container\">\n",
      "<p class=\"period-name\">Tuesday<br/>Night</p>\n",
      "<p><img alt=\"Tuesday Night: A 50 percent chance of showers.  Mostly cloudy, with a low around 39. New precipitation amounts between a tenth and quarter of an inch possible. \" class=\"forecast-icon\" src=\"newimages/medium/nshra50.png\" title=\"Tuesday Night: A 50 percent chance of showers.  Mostly cloudy, with a low around 39. New precipitation amounts between a tenth and quarter of an inch possible. \"/></p><p class=\"short-desc\">Chance<br/>Showers</p><p class=\"temp temp-low\">Low: 39 °F</p></div></li><li class=\"forecast-tombstone\">\n",
      "<div class=\"tombstone-container\">\n",
      "<p class=\"period-name\">Wednesday<br/><br/></p>\n",
      "<p><img alt=\"Wednesday: A 20 percent chance of showers.  Partly sunny, with a high near 48.\" class=\"forecast-icon\" src=\"newimages/medium/shra20.png\" title=\"Wednesday: A 20 percent chance of showers.  Partly sunny, with a high near 48.\"/></p><p class=\"short-desc\">Slight Chance<br/>Showers</p><p class=\"temp temp-high\">High: 48 °F</p></div></li><li class=\"forecast-tombstone\">\n",
      "<div class=\"tombstone-container\">\n",
      "<p class=\"period-name\">Wednesday<br/>Night</p>\n",
      "<p><img alt=\"Wednesday Night: Partly cloudy, with a low around 27.\" class=\"forecast-icon\" src=\"newimages/medium/nsct.png\" title=\"Wednesday Night: Partly cloudy, with a low around 27.\"/></p><p class=\"short-desc\">Partly Cloudy</p><p class=\"temp temp-low\">Low: 27 °F</p></div></li><li class=\"forecast-tombstone\">\n",
      "<div class=\"tombstone-container\">\n",
      "<p class=\"period-name\">Thursday<br/><br/></p>\n",
      "<p><img alt=\"Thursday: Mostly sunny, with a high near 42.\" class=\"forecast-icon\" src=\"newimages/medium/sct.png\" title=\"Thursday: Mostly sunny, with a high near 42.\"/></p><p class=\"short-desc\">Mostly Sunny</p><p class=\"temp temp-high\">High: 42 °F</p></div></li></ul></div>\n",
      "<script type=\"text/javascript\">\n",
      "// equalize forecast heights\n",
      "$(function () {\n",
      "\tvar maxh = 0;\n",
      "\t$(\".forecast-tombstone .short-desc\").each(function () {\n",
      "\t\tvar h = $(this).height();\n",
      "\t\tif (h > maxh) { maxh = h; }\n",
      "\t});\n",
      "\t$(\".forecast-tombstone .short-desc\").height(maxh);\n",
      "});\n",
      "</script> </div>\n"
     ]
    }
   ],
   "source": [
    "print(Week)"
   ]
  },
  {
   "cell_type": "code",
   "execution_count": 59,
   "id": "seasonal-athens",
   "metadata": {},
   "outputs": [],
   "source": [
    "items=Week.find_all(class_='tombstone-container')"
   ]
  },
  {
   "cell_type": "code",
   "execution_count": 60,
   "id": "recorded-swedish",
   "metadata": {},
   "outputs": [
    {
     "name": "stdout",
     "output_type": "stream",
     "text": [
      "[<div class=\"tombstone-container\">\n",
      "<p class=\"period-name\">Today<br/><br/></p>\n",
      "<p><img alt=\"Today: Cloudy, with a high near 50. West northwest wind around 18 mph, with gusts as high as 32 mph. \" class=\"forecast-icon\" src=\"newimages/medium/ovc.png\" title=\"Today: Cloudy, with a high near 50. West northwest wind around 18 mph, with gusts as high as 32 mph. \"/></p><p class=\"short-desc\">Cloudy</p><p class=\"temp temp-high\">High: 50 °F</p></div>, <div class=\"tombstone-container\">\n",
      "<p class=\"period-name\">Tonight<br/><br/></p>\n",
      "<p><img alt=\"Tonight: Mostly cloudy, then gradually becoming clear, with a low around 32. West northwest wind 5 to 15 mph, with gusts as high as 21 mph. \" class=\"forecast-icon\" src=\"newimages/medium/nsct.png\" title=\"Tonight: Mostly cloudy, then gradually becoming clear, with a low around 32. West northwest wind 5 to 15 mph, with gusts as high as 21 mph. \"/></p><p class=\"short-desc\">Decreasing<br/>Clouds</p><p class=\"temp temp-low\">Low: 32 °F</p></div>, <div class=\"tombstone-container\">\n",
      "<p class=\"period-name\">Monday<br/><br/></p>\n",
      "<p><img alt=\"Monday: Sunny, with a high near 60. Light south southwest wind increasing to 5 to 10 mph in the morning. \" class=\"forecast-icon\" src=\"newimages/medium/few.png\" title=\"Monday: Sunny, with a high near 60. Light south southwest wind increasing to 5 to 10 mph in the morning. \"/></p><p class=\"short-desc\">Sunny</p><p class=\"temp temp-high\">High: 60 °F</p></div>, <div class=\"tombstone-container\">\n",
      "<p class=\"period-name\">Monday<br/>Night</p>\n",
      "<p><img alt=\"Monday Night: Clear, with a low around 43. South wind around 10 mph, with gusts as high as 18 mph. \" class=\"forecast-icon\" src=\"newimages/medium/nskc.png\" title=\"Monday Night: Clear, with a low around 43. South wind around 10 mph, with gusts as high as 18 mph. \"/></p><p class=\"short-desc\">Clear</p><p class=\"temp temp-low\">Low: 43 °F</p></div>, <div class=\"tombstone-container\">\n",
      "<p class=\"period-name\">Tuesday<br/><br/></p>\n",
      "<p><img alt=\"Tuesday: Mostly sunny, with a high near 67. South southwest wind 10 to 17 mph, with gusts as high as 30 mph. \" class=\"forecast-icon\" src=\"newimages/medium/sct.png\" title=\"Tuesday: Mostly sunny, with a high near 67. South southwest wind 10 to 17 mph, with gusts as high as 30 mph. \"/></p><p class=\"short-desc\">Mostly Sunny</p><p class=\"temp temp-high\">High: 67 °F</p></div>, <div class=\"tombstone-container\">\n",
      "<p class=\"period-name\">Tuesday<br/>Night</p>\n",
      "<p><img alt=\"Tuesday Night: A 50 percent chance of showers.  Mostly cloudy, with a low around 39. New precipitation amounts between a tenth and quarter of an inch possible. \" class=\"forecast-icon\" src=\"newimages/medium/nshra50.png\" title=\"Tuesday Night: A 50 percent chance of showers.  Mostly cloudy, with a low around 39. New precipitation amounts between a tenth and quarter of an inch possible. \"/></p><p class=\"short-desc\">Chance<br/>Showers</p><p class=\"temp temp-low\">Low: 39 °F</p></div>, <div class=\"tombstone-container\">\n",
      "<p class=\"period-name\">Wednesday<br/><br/></p>\n",
      "<p><img alt=\"Wednesday: A 20 percent chance of showers.  Partly sunny, with a high near 48.\" class=\"forecast-icon\" src=\"newimages/medium/shra20.png\" title=\"Wednesday: A 20 percent chance of showers.  Partly sunny, with a high near 48.\"/></p><p class=\"short-desc\">Slight Chance<br/>Showers</p><p class=\"temp temp-high\">High: 48 °F</p></div>, <div class=\"tombstone-container\">\n",
      "<p class=\"period-name\">Wednesday<br/>Night</p>\n",
      "<p><img alt=\"Wednesday Night: Partly cloudy, with a low around 27.\" class=\"forecast-icon\" src=\"newimages/medium/nsct.png\" title=\"Wednesday Night: Partly cloudy, with a low around 27.\"/></p><p class=\"short-desc\">Partly Cloudy</p><p class=\"temp temp-low\">Low: 27 °F</p></div>, <div class=\"tombstone-container\">\n",
      "<p class=\"period-name\">Thursday<br/><br/></p>\n",
      "<p><img alt=\"Thursday: Mostly sunny, with a high near 42.\" class=\"forecast-icon\" src=\"newimages/medium/sct.png\" title=\"Thursday: Mostly sunny, with a high near 42.\"/></p><p class=\"short-desc\">Mostly Sunny</p><p class=\"temp temp-high\">High: 42 °F</p></div>]\n"
     ]
    }
   ],
   "source": [
    "print(items)"
   ]
  },
  {
   "cell_type": "code",
   "execution_count": 64,
   "id": "binary-letter",
   "metadata": {},
   "outputs": [
    {
     "name": "stdout",
     "output_type": "stream",
     "text": [
      "<div class=\"tombstone-container\">\n",
      "<p class=\"period-name\">Monday<br/><br/></p>\n",
      "<p><img alt=\"Monday: Sunny, with a high near 60. Light south southwest wind increasing to 5 to 10 mph in the morning. \" class=\"forecast-icon\" src=\"newimages/medium/few.png\" title=\"Monday: Sunny, with a high near 60. Light south southwest wind increasing to 5 to 10 mph in the morning. \"/></p><p class=\"short-desc\">Sunny</p><p class=\"temp temp-high\">High: 60 °F</p></div>\n"
     ]
    }
   ],
   "source": [
    "print(items[2])"
   ]
  },
  {
   "cell_type": "code",
   "execution_count": 66,
   "id": "friendly-disposition",
   "metadata": {},
   "outputs": [
    {
     "name": "stdout",
     "output_type": "stream",
     "text": [
      "Today\n"
     ]
    }
   ],
   "source": [
    "print(items[0].find(class_='period-name').get_text())"
   ]
  },
  {
   "cell_type": "code",
   "execution_count": 68,
   "id": "departmental-vienna",
   "metadata": {},
   "outputs": [
    {
     "name": "stdout",
     "output_type": "stream",
     "text": [
      "Cloudy\n"
     ]
    }
   ],
   "source": [
    "print(items[0].find(class_='`short-desc').get_text())"
   ]
  },
  {
   "cell_type": "code",
   "execution_count": 69,
   "id": "multiple-retailer",
   "metadata": {},
   "outputs": [
    {
     "name": "stdout",
     "output_type": "stream",
     "text": [
      "High: 50 °F\n"
     ]
    }
   ],
   "source": [
    "print(items[0].find(class_='temp temp-high').get_text())"
   ]
  },
  {
   "cell_type": "code",
   "execution_count": 70,
   "id": "moved-treaty",
   "metadata": {},
   "outputs": [],
   "source": [
    "#collect all datas and run for loop"
   ]
  },
  {
   "cell_type": "code",
   "execution_count": 77,
   "id": "acknowledged-substitute",
   "metadata": {},
   "outputs": [],
   "source": [
    "Period_name=[item.find(class_='period-name').get_text()for item in items]\n",
    "\n",
    "\n",
    "\n"
   ]
  },
  {
   "cell_type": "code",
   "execution_count": 78,
   "id": "capital-punishment",
   "metadata": {},
   "outputs": [],
   "source": [
    "Short_description=[item.find(class_='short-desc').get_text()for item in items]"
   ]
  },
  {
   "cell_type": "code",
   "execution_count": 80,
   "id": "minus-variation",
   "metadata": {},
   "outputs": [],
   "source": [
    "Temperature=[item.find(class_='temp').get_text()for item in items]"
   ]
  },
  {
   "cell_type": "code",
   "execution_count": 81,
   "id": "continuous-procedure",
   "metadata": {},
   "outputs": [
    {
     "name": "stdout",
     "output_type": "stream",
     "text": [
      "['Today', 'Tonight', 'Monday', 'MondayNight', 'Tuesday', 'TuesdayNight', 'Wednesday', 'WednesdayNight', 'Thursday']\n",
      "['Cloudy', 'DecreasingClouds', 'Sunny', 'Clear', 'Mostly Sunny', 'ChanceShowers', 'Slight ChanceShowers', 'Partly Cloudy', 'Mostly Sunny']\n",
      "['High: 50 °F', 'Low: 32 °F', 'High: 60 °F', 'Low: 43 °F', 'High: 67 °F', 'Low: 39 °F', 'High: 48 °F', 'Low: 27 °F', 'High: 42 °F']\n"
     ]
    }
   ],
   "source": [
    "print(Period_name)\n",
    "print(Short_description)\n",
    "print(Temperature)"
   ]
  },
  {
   "cell_type": "code",
   "execution_count": 82,
   "id": "creative-joyce",
   "metadata": {},
   "outputs": [],
   "source": [
    "import pandas as pd"
   ]
  },
  {
   "cell_type": "code",
   "execution_count": 83,
   "id": "authorized-jewel",
   "metadata": {},
   "outputs": [],
   "source": [
    "Weather_stuff = pd.DataFrame(\n",
    "    {\n",
    "        'Period':Period_name,\n",
    "        'Short_description':Short_description,\n",
    "        'Temperature':Temperature\n",
    "    })"
   ]
  },
  {
   "cell_type": "code",
   "execution_count": 84,
   "id": "south-finger",
   "metadata": {},
   "outputs": [
    {
     "data": {
      "text/html": [
       "<div>\n",
       "<style scoped>\n",
       "    .dataframe tbody tr th:only-of-type {\n",
       "        vertical-align: middle;\n",
       "    }\n",
       "\n",
       "    .dataframe tbody tr th {\n",
       "        vertical-align: top;\n",
       "    }\n",
       "\n",
       "    .dataframe thead th {\n",
       "        text-align: right;\n",
       "    }\n",
       "</style>\n",
       "<table border=\"1\" class=\"dataframe\">\n",
       "  <thead>\n",
       "    <tr style=\"text-align: right;\">\n",
       "      <th></th>\n",
       "      <th>Period</th>\n",
       "      <th>Short_description</th>\n",
       "      <th>Temperature</th>\n",
       "    </tr>\n",
       "  </thead>\n",
       "  <tbody>\n",
       "    <tr>\n",
       "      <th>0</th>\n",
       "      <td>Today</td>\n",
       "      <td>Cloudy</td>\n",
       "      <td>High: 50 °F</td>\n",
       "    </tr>\n",
       "    <tr>\n",
       "      <th>1</th>\n",
       "      <td>Tonight</td>\n",
       "      <td>DecreasingClouds</td>\n",
       "      <td>Low: 32 °F</td>\n",
       "    </tr>\n",
       "    <tr>\n",
       "      <th>2</th>\n",
       "      <td>Monday</td>\n",
       "      <td>Sunny</td>\n",
       "      <td>High: 60 °F</td>\n",
       "    </tr>\n",
       "    <tr>\n",
       "      <th>3</th>\n",
       "      <td>MondayNight</td>\n",
       "      <td>Clear</td>\n",
       "      <td>Low: 43 °F</td>\n",
       "    </tr>\n",
       "    <tr>\n",
       "      <th>4</th>\n",
       "      <td>Tuesday</td>\n",
       "      <td>Mostly Sunny</td>\n",
       "      <td>High: 67 °F</td>\n",
       "    </tr>\n",
       "    <tr>\n",
       "      <th>5</th>\n",
       "      <td>TuesdayNight</td>\n",
       "      <td>ChanceShowers</td>\n",
       "      <td>Low: 39 °F</td>\n",
       "    </tr>\n",
       "    <tr>\n",
       "      <th>6</th>\n",
       "      <td>Wednesday</td>\n",
       "      <td>Slight ChanceShowers</td>\n",
       "      <td>High: 48 °F</td>\n",
       "    </tr>\n",
       "    <tr>\n",
       "      <th>7</th>\n",
       "      <td>WednesdayNight</td>\n",
       "      <td>Partly Cloudy</td>\n",
       "      <td>Low: 27 °F</td>\n",
       "    </tr>\n",
       "    <tr>\n",
       "      <th>8</th>\n",
       "      <td>Thursday</td>\n",
       "      <td>Mostly Sunny</td>\n",
       "      <td>High: 42 °F</td>\n",
       "    </tr>\n",
       "  </tbody>\n",
       "</table>\n",
       "</div>"
      ],
      "text/plain": [
       "           Period     Short_description  Temperature\n",
       "0           Today                Cloudy  High: 50 °F\n",
       "1         Tonight      DecreasingClouds   Low: 32 °F\n",
       "2          Monday                 Sunny  High: 60 °F\n",
       "3     MondayNight                 Clear   Low: 43 °F\n",
       "4         Tuesday          Mostly Sunny  High: 67 °F\n",
       "5    TuesdayNight         ChanceShowers   Low: 39 °F\n",
       "6       Wednesday  Slight ChanceShowers  High: 48 °F\n",
       "7  WednesdayNight         Partly Cloudy   Low: 27 °F\n",
       "8        Thursday          Mostly Sunny  High: 42 °F"
      ]
     },
     "execution_count": 84,
     "metadata": {},
     "output_type": "execute_result"
    }
   ],
   "source": [
    "Weather_stuff"
   ]
  },
  {
   "cell_type": "code",
   "execution_count": 87,
   "id": "statewide-minute",
   "metadata": {},
   "outputs": [],
   "source": [
    "Weather_stuff.to_csv('Weather_stuff.csv')"
   ]
  },
  {
   "cell_type": "code",
   "execution_count": 1,
   "id": "unique-fabric",
   "metadata": {},
   "outputs": [],
   "source": []
  },
  {
   "cell_type": "code",
   "execution_count": null,
   "id": "lasting-brief",
   "metadata": {},
   "outputs": [],
   "source": []
  },
  {
   "cell_type": "code",
   "execution_count": null,
   "id": "upper-packaging",
   "metadata": {},
   "outputs": [],
   "source": []
  },
  {
   "cell_type": "code",
   "execution_count": null,
   "id": "binary-castle",
   "metadata": {},
   "outputs": [],
   "source": []
  }
 ],
 "metadata": {
  "kernelspec": {
   "display_name": "Python 3",
   "language": "python",
   "name": "python3"
  },
  "language_info": {
   "codemirror_mode": {
    "name": "ipython",
    "version": 3
   },
   "file_extension": ".py",
   "mimetype": "text/x-python",
   "name": "python",
   "nbconvert_exporter": "python",
   "pygments_lexer": "ipython3",
   "version": "3.8.8"
  }
 },
 "nbformat": 4,
 "nbformat_minor": 5
}
